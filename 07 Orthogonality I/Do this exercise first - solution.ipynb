{
 "cells": [
  {
   "cell_type": "code",
   "execution_count": 2,
   "metadata": {},
   "outputs": [],
   "source": [
    "import sympy as sp\n",
    "from scipy import *\n",
    "from sympy import *\n",
    "init_printing()\n",
    "from IPython.display import display, Latex, HTML, Math\n",
    "import numpy as np\n",
    "import pandas as pd\n",
    "from sympy import Rational as R"
   ]
  },
  {
   "cell_type": "code",
   "execution_count": 3,
   "metadata": {},
   "outputs": [
    {
     "data": {
      "text/latex": [
       "$\\displaystyle A = \\left[\\begin{matrix}- \\frac{3}{20} & \\frac{3}{20}\\\\\\frac{3}{20} & - \\frac{9}{20}\\end{matrix}\\right]$"
      ],
      "text/plain": [
       "<IPython.core.display.Math object>"
      ]
     },
     "metadata": {},
     "output_type": "display_data"
    }
   ],
   "source": [
    "# We translate the problem to a matrix problem\n",
    "\n",
    "A = Matrix([[-R(45,300), R(15,100)],[R(45,300), -R(45,100)]])\n",
    "display(Math(r'A = ' + latex(A)))"
   ]
  },
  {
   "cell_type": "code",
   "execution_count": 4,
   "metadata": {},
   "outputs": [
    {
     "data": {
      "text/latex": [
       "$\\displaystyle \\lambda_0 =- \\frac{3}{10} - \\frac{3 \\sqrt{2}}{20}\\approx-0.51$"
      ],
      "text/plain": [
       "<IPython.core.display.Math object>"
      ]
     },
     "metadata": {},
     "output_type": "display_data"
    },
    {
     "data": {
      "text/latex": [
       "$\\displaystyle \\lambda_0 =- \\frac{3}{10} + \\frac{3 \\sqrt{2}}{20}\\approx-0.09$"
      ],
      "text/plain": [
       "<IPython.core.display.Math object>"
      ]
     },
     "metadata": {},
     "output_type": "display_data"
    },
    {
     "data": {
      "text/latex": [
       "$\\displaystyle v_0 = \\left[\\begin{matrix}- \\frac{3}{20 \\left(\\frac{3}{20} + \\frac{3 \\sqrt{2}}{20}\\right)}\\\\1\\end{matrix}\\right]=\\left[\\begin{matrix}-0.4142\\\\1.0\\end{matrix}\\right]$"
      ],
      "text/plain": [
       "<IPython.core.display.Math object>"
      ]
     },
     "metadata": {},
     "output_type": "display_data"
    },
    {
     "data": {
      "text/latex": [
       "$\\displaystyle v_1 = \\left[\\begin{matrix}- \\frac{3}{20 \\left(\\frac{3}{20} - \\frac{3 \\sqrt{2}}{20}\\right)}\\\\1\\end{matrix}\\right]=\\left[\\begin{matrix}2.414\\\\1.0\\end{matrix}\\right]$"
      ],
      "text/plain": [
       "<IPython.core.display.Math object>"
      ]
     },
     "metadata": {},
     "output_type": "display_data"
    }
   ],
   "source": [
    "# We find the eigenvalues and the corresponding eigenspaces.\n",
    "l = symbols('l')\n",
    "l1, l2 = solve(det(A-l*eye(np.shape(A)[0])))\n",
    "display(Math(r'\\lambda_0 =' +latex(l1) + r'\\approx' + latex(round(l1, 2))))\n",
    "display(Math(r'\\lambda_0 =' +latex(l2) + r'\\approx' + latex(round(l2, 2))))\n",
    "\n",
    "v1 = (A-l1*eye(np.shape(A)[0])).nullspace()[0]\n",
    "v2 = (A-l2*eye(np.shape(A)[0])).nullspace()[0]\n",
    "display(Math(r'v_0 = '+ latex(v1) + r'=' + latex(v1.evalf(4))))\n",
    "display(Math(r'v_1 = '+ latex(v2) + r'=' + latex(v2.evalf(4))))"
   ]
  },
  {
   "cell_type": "markdown",
   "metadata": {},
   "source": [
    "We get the following general solution:\n",
    "\n",
    "$$y(0)=c_{0}\\left[\\begin{array}{c}\n",
    "-0.41 \\\\\n",
    "1.0\n",
    "\\end{array}\\right]e^{-0.51 t}+c_{1}\\left[\\begin{array}{l}\n",
    "2.4 \\\\\n",
    "1.0\n",
    "\\end{array}\\right]e^{-0.09 t}$$\n",
    "\n",
    "To get the particular solution (sometimes called the unique solution) we use the initial value and solve the above general solution with regard to $c_0$ and $c_1$."
   ]
  },
  {
   "cell_type": "code",
   "execution_count": 5,
   "metadata": {},
   "outputs": [
    {
     "data": {
      "text/latex": [
       "$\\displaystyle c_0 = -6.21$"
      ],
      "text/plain": [
       "<IPython.core.display.Math object>"
      ]
     },
     "metadata": {},
     "output_type": "display_data"
    },
    {
     "data": {
      "text/latex": [
       "$\\displaystyle c_1 = 36.21$"
      ],
      "text/plain": [
       "<IPython.core.display.Math object>"
      ]
     },
     "metadata": {},
     "output_type": "display_data"
    }
   ],
   "source": [
    "y0 = Matrix([90, 30])\n",
    "# To solve the system we form the following augmented matrix and solve. The c's will be in the last column:\n",
    "c=v1.row_join(v2).row_join(y0).rref()[0][:,-1]\n",
    "#rref.applyfunc(lambda x: round(x, 2)) # this I use beacuse the values are horrible!!\n",
    "display(Math(r'c_0 = ' + latex(round(c[0],2))))\n",
    "display(Math(r'c_1 = ' + latex(round(c[1],2))))"
   ]
  },
  {
   "cell_type": "markdown",
   "metadata": {},
   "source": [
    "We get:\n",
    "\n",
    "$$y(t) = \\left[\\begin{array}{c}\n",
    "y_0(t) \\\\\n",
    "y_1(t)\n",
    "\\end{array}\\right] =-6.21\\left[\\begin{array}{c}\n",
    "-0.41 \\\\\n",
    "1.0\n",
    "\\end{array}\\right]e^{-0.51 t}+36.21 \\left[\\begin{array}{l}\n",
    "2.4 \\\\\n",
    "1.0\n",
    "\\end{array}\\right] e^{-0.09 t}$$"
   ]
  },
  {
   "cell_type": "code",
   "execution_count": 6,
   "metadata": {},
   "outputs": [
    {
     "data": {
      "image/png": "[encoded data removed]",
      "text/latex": [
       "$\\displaystyle 0.414213562373095$"
      ],
      "text/plain": [
       "0.414213562373095"
      ]
     },
     "execution_count": 6,
     "metadata": {},
     "output_type": "execute_result"
    }
   ],
   "source": [
    "t=symbols('t')\n",
    "f0=(float(c[0])*float(v1[0])*(math.e**(float(l1)*t))+float(c[1])*float(v2[0])*(math.e**(float(l2)*t)))\n",
    "\n",
    "f1=(float(c[0])*float(v1[1])*(exp(float(l1)*t))+float(c[1])*float(v2[1])*(exp(float(l2)*t)))\n",
    "\n",
    "\n",
    "\n",
    "z=limit(f1/f0,t,inf)\n",
    "z"
   ]
  }
 ],
 "metadata": {
  "kernelspec": {
   "display_name": "Python 3",
   "language": "python",
   "name": "python3"
  },
  "language_info": {
   "codemirror_mode": {
    "name": "ipython",
    "version": 3
   },
   "file_extension": ".py",
   "mimetype": "text/x-python",
   "name": "python",
   "nbconvert_exporter": "python",
   "pygments_lexer": "ipython3",
   "version": "3.7.6"
  }
 },
 "nbformat": 4,
 "nbformat_minor": 4
}
