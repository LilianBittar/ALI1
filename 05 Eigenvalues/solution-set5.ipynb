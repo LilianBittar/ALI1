{
 "cells": [
  {
   "cell_type": "code",
   "execution_count": 1,
   "metadata": {},
   "outputs": [],
   "source": [
    "from sympy import *\n",
    "from fractions import Fraction\n",
    "from scipy.stats import binom\n",
    "from scipy.stats import poisson\n",
    "from scipy.stats import hypergeom\n",
    "from scipy.stats import nbinom\n",
    "from scipy.stats import expon\n",
    "from scipy.stats import norm\n",
    "from IPython.display import display, Latex, HTML, Math\n",
    "from scipy import stats\n",
    "import numpy as np\n",
    "import sympy as sp\n",
    "import pandas as pd\n",
    "import math as math\n",
    "from matplotlib import pyplot as plt\n",
    "%matplotlib inline\n",
    "x, y, z, u, c = symbols('x y z u c')\n",
    "init_printing()"
   ]
  },
  {
   "cell_type": "code",
   "execution_count": 4,
   "metadata": {},
   "outputs": [
    {
     "name": "stdout",
     "output_type": "stream",
     "text": [
      "(Matrix([\n",
      "[1, 2],\n",
      "[0, 0]]), (0,))\n"
     ]
    }
   ],
   "source": [
    "##5.1.1\n",
    "A = Matrix(([3,2], [3,8]))\n",
    "I = Matrix(([1,0], [0,1]))\n",
    "l = symbols('l')\n",
    "print((A - 2*I).rref())\n"
   ]
  },
  {
   "cell_type": "code",
   "execution_count": 6,
   "metadata": {},
   "outputs": [
    {
     "name": "stdout",
     "output_type": "stream",
     "text": [
      "Matrix([[-2], [-6]])\n",
      "l**2 + 3*l + 2\n",
      "{-1: 1, -2: 1}\n"
     ]
    }
   ],
   "source": [
    "##5.1.3\n",
    "V = Matrix(([1,3]))\n",
    "A = Matrix(([1,-1], [6,-4]))\n",
    "print(A*V)\n",
    "B = A - l * I\n",
    "print(B.det())\n",
    "print(A.eigenvals())"
   ]
  },
  {
   "cell_type": "code",
   "execution_count": 9,
   "metadata": {},
   "outputs": [
    {
     "name": "stdout",
     "output_type": "stream",
     "text": [
      "Matrix([[-15], [10], [-5]])\n",
      "{-1: 1, -3: 1, -5: 1}\n",
      "[-5, -3, -1]\n"
     ]
    }
   ],
   "source": [
    "##5.1.5\n",
    "A = Matrix(([-4,3,3], [2,-3,-2], [-1,0,-2]))\n",
    "V = Matrix(([3,-2,1]))\n",
    "I = Matrix(([1,0,0], [0,1,0],[0,0,1]))\n",
    "print(A*V)\n",
    "print(A.eigenvals())\n",
    "B = A - l * I\n",
    "E = solve(B.det(),l)\n",
    "print(E)"
   ]
  },
  {
   "cell_type": "code",
   "execution_count": 10,
   "metadata": {},
   "outputs": [
    {
     "name": "stdout",
     "output_type": "stream",
     "text": [
      "(Matrix([\n",
      "[1, 0, 1],\n",
      "[0, 1, 1],\n",
      "[0, 0, 0]]), (0, 1))\n"
     ]
    }
   ],
   "source": [
    "##5.1.7\n",
    "A = Matrix(([3,0,-1], [2,3,1], [-3,4,5]))\n",
    "print((A-4*I).rref())"
   ]
  },
  {
   "cell_type": "code",
   "execution_count": 11,
   "metadata": {},
   "outputs": [
    {
     "name": "stdout",
     "output_type": "stream",
     "text": [
      "(Matrix([\n",
      "[1, 0, 0],\n",
      "[0, 0, 1],\n",
      "[0, 0, 0]]), (0, 2))\n",
      "(Matrix([\n",
      "[1, 0, 1/2],\n",
      "[0, 1,  -1],\n",
      "[0, 0,   0]]), (0, 1))\n",
      "(Matrix([\n",
      "[1, 0,  1],\n",
      "[0, 1, -1],\n",
      "[0, 0,  0]]), (0, 1))\n"
     ]
    }
   ],
   "source": [
    "##5.1.13\n",
    "# basis for each eigenval\n",
    "A = Matrix(([4,0,1],[-2,1,0],[-2,0,1]))\n",
    "I = Matrix(([1,0,0], [0,1,0],[0,0,1]))\n",
    "\n",
    "l = 1\n",
    "B1 = (A-l*I).rref()\n",
    "print(B1)\n",
    "l = 2\n",
    "B2 = (A-l*I).rref()\n",
    "print(B2)\n",
    "l=3\n",
    "B3 = (A-l*I).rref()\n",
    "print(B3)"
   ]
  },
  {
   "cell_type": "code",
   "execution_count": 12,
   "metadata": {},
   "outputs": [
    {
     "name": "stdout",
     "output_type": "stream",
     "text": [
      "(Matrix([\n",
      "[1, 0, -1, 0],\n",
      "[0, 1, -1, 0],\n",
      "[0, 0,  0, 0],\n",
      "[0, 0,  0, 0]]), (0, 1))\n"
     ]
    }
   ],
   "source": [
    "##5.1.16\n",
    "#basis for eigenvals\n",
    "A = Matrix(([5,0,-1,0],[1,3,0,0],[2,-1,3,0],[4,-2,-2,4]))\n",
    "I = Matrix(([1,0,0,0], [0,1,0,0],[0,0,1,0], [0,0,0,1]))\n",
    "\n",
    "l = 4\n",
    "B4 = (A-l*I).rref()\n",
    "print(B4)"
   ]
  },
  {
   "cell_type": "code",
   "execution_count": 42,
   "metadata": {},
   "outputs": [
    {
     "name": "stdout",
     "output_type": "stream",
     "text": [
      "Eigenvalues with their algebraic multiplicities:\n",
      "Eigenvalue: 42, Multiplicity: 2\n",
      "Eigenvalue: -14, Multiplicity: 3\n",
      "\n",
      "Eigenvalue: -14\n",
      "Multiplicity: 3\n",
      "Basis for the eigenspace:\n",
      "Matrix([[-1], [0], [1], [0], [0]])\n",
      "Matrix([[10/3], [2], [0], [5/3], [1]])\n",
      "\n",
      "Eigenvalue: 42\n",
      "Multiplicity: 2\n",
      "Basis for the eigenspace:\n",
      "Matrix([[0], [1/5], [-2/5], [1], [0]])\n",
      "Matrix([[-1], [-1/5], [-3/5], [0], [1]])\n"
     ]
    }
   ],
   "source": [
    "##5.1.40, find eig.val for A XXXXX\n",
    "A =  Matrix(([-23,57,-9,-15,-59],[-10,12,-10,2,-22],[11,5,-3,-19,-15],[-27,31,-27,25,-37],[-5,-15,-5,1,31]))\n",
    "I = Matrix(([1,0,0,0,0], [0,1,0,0,0],[0,0,1,0,0], [0,0,0,1,0], [0,0,0,0,1]))\n",
    "\n",
    "# A.eigenvals()\n",
    "# l = symbols('l')\n",
    "# B = A - l * I\n",
    "# E = solve(B.det(),l)\n",
    "# print(E)\n",
    "# print(A.eigenvects())\n",
    "\n",
    "# Step 1: Compute the eigenvalues and eigenvectors\n",
    "eigenvalues = A.eigenvals()\n",
    "eigenvectors = A.eigenvects()\n",
    "\n",
    "# Print the eigenvalues\n",
    "print(\"Eigenvalues with their algebraic multiplicities:\")\n",
    "for eigenvalue, multiplicity in eigenvalues.items():\n",
    "    print(f\"Eigenvalue: {eigenvalue}, Multiplicity: {multiplicity}\")\n",
    "\n",
    "\n",
    "# Step 2: For each eigenvalue, find the basis for the eigenspace\n",
    "for eigenvalue, multiplicity, eigvecs in eigenvectors:\n",
    "    print(f\"\\nEigenvalue: {eigenvalue}\")\n",
    "    print(f\"Multiplicity: {multiplicity}\")\n",
    "    print(f\"Basis for the eigenspace:\")\n",
    "    for vec in eigvecs:\n",
    "        print(vec)\n",
    "\n"
   ]
  },
  {
   "cell_type": "code",
   "execution_count": 44,
   "metadata": {},
   "outputs": [
    {
     "name": "stdout",
     "output_type": "stream",
     "text": [
      "[-5, 9]\n"
     ]
    }
   ],
   "source": [
    "##5.2.1 find characteristic polynomial\n",
    "A = Matrix(([2,7],[7,2]))\n",
    "I = Matrix(([1,0], [0,1]))\n",
    "l = symbols('l')\n",
    "B = (A - l * I)\n",
    "E = solve(B.det(),l)\n",
    "print(E)"
   ]
  },
  {
   "cell_type": "code",
   "execution_count": 45,
   "metadata": {},
   "outputs": [
    {
     "name": "stdout",
     "output_type": "stream",
     "text": [
      "[-5, 8]\n"
     ]
    }
   ],
   "source": [
    "##5.2.3\n",
    "A = Matrix(([-4,2],[6,7]))\n",
    "I = Matrix(([1,0], [0,1]))\n",
    "l = symbols('l')\n",
    "B = A - l * I\n",
    "E = solve(B.det(),l)\n",
    "print(E)"
   ]
  },
  {
   "cell_type": "code",
   "execution_count": 46,
   "metadata": {},
   "outputs": [
    {
     "name": "stdout",
     "output_type": "stream",
     "text": [
      "[7]\n"
     ]
    }
   ],
   "source": [
    "##5.2.6\n",
    "A = Matrix(([9,-2],[2,5]))\n",
    "I = Matrix(([1,0], [0,1]))\n",
    "l = symbols('l')\n",
    "B = A - l * I\n",
    "E = solve(B.det(),l)\n",
    "print(E)"
   ]
  },
  {
   "cell_type": "code",
   "execution_count": 49,
   "metadata": {},
   "outputs": [
    {
     "name": "stdout",
     "output_type": "stream",
     "text": [
      "{5: 1, 5 - sqrt(2): 1, sqrt(2) + 5: 1}\n"
     ]
    }
   ],
   "source": [
    "##5.2.10\n",
    "A = Matrix(([3,1,1],[0,5,0],[-2,0,7]))\n",
    "I = Matrix(([1,0,0], [0,1,0],[0,0,1]))\n",
    "l = symbols('l')\n",
    "B = A - l * I\n",
    "print(A.eigenvals())"
   ]
  },
  {
   "cell_type": "code",
   "execution_count": 50,
   "metadata": {},
   "outputs": [
    {
     "name": "stdout",
     "output_type": "stream",
     "text": [
      "{3: 1, 4: 1, 1: 1}\n"
     ]
    }
   ],
   "source": [
    "##5.2.11\n",
    "A = Matrix(([3,0,0],[2,1,4],[1,0,4]))\n",
    "I = Matrix(([1,0,0], [0,1,0],[0,0,1]))\n",
    "l = symbols('l')\n",
    "B = A - l * I\n",
    "B\n",
    "print(A.eigenvals())"
   ]
  },
  {
   "cell_type": "code",
   "execution_count": 51,
   "metadata": {},
   "outputs": [
    {
     "name": "stdout",
     "output_type": "stream",
     "text": [
      "Matrix([[226, -525], [90, -209]])\n"
     ]
    }
   ],
   "source": [
    "#5.3.1 find PD^4P^-1\n",
    "P = Matrix(([5,7],[2,3]))\n",
    "I = Matrix(([1,0],[0,1]))\n",
    "Matrix.hstack(P,I).rref()\n",
    "InvP = Matrix(([3,-7],[-2,5]))\n",
    "D = Matrix(([2,0],[0,1]))\n",
    "R = P*D**4*InvP\n",
    "print(R)"
   ]
  },
  {
   "cell_type": "code",
   "execution_count": 57,
   "metadata": {},
   "outputs": [
    {
     "name": "stdout",
     "output_type": "stream",
     "text": [
      "{5: 1, -2: 1}\n",
      "(Matrix([\n",
      "[1, 1],\n",
      "[0, 0]]), (0,))\n",
      "(Matrix([\n",
      "[1, -3/4],\n",
      "[0,    0]]), (0,))\n",
      "Matrix([[4/7, 4/7], [-4/7, 3/7]])\n"
     ]
    }
   ],
   "source": [
    "#5.3.10 - digonalize A\n",
    "A = Matrix(([1,3],[4,2]))\n",
    "I = Matrix(([1,0],[0,1]))\n",
    "print(A.eigenvals())\n",
    "print((A + 2*I).rref())\n",
    "B = (A -5*I).rref()\n",
    "print(B)\n",
    "P = Matrix(([-1,3],[1,4]))\n",
    "print(InvP)"
   ]
  },
  {
   "cell_type": "code",
   "execution_count": 60,
   "metadata": {},
   "outputs": [
    {
     "name": "stdout",
     "output_type": "stream",
     "text": [
      "(Matrix([\n",
      "[1, 1, 1],\n",
      "[0, 0, 0],\n",
      "[0, 0, 0]]), (0,))\n",
      "(Matrix([\n",
      "[1, 0, -1/3],\n",
      "[0, 1, -2/3],\n",
      "[0, 0,    0]]), (0, 1))\n",
      "(Matrix([\n",
      "[1, 0, 0,  1/6,  1/6,  1/6],\n",
      "[0, 1, 0, -1/3,  2/3, -1/3],\n",
      "[0, 0, 1, -1/2, -1/2,  1/2]]), (0, 1, 2))\n"
     ]
    }
   ],
   "source": [
    "#5.3.11 - diagonalize A\n",
    "A = Matrix(([0,1,1],[2,1,2],[3,3,2]))\n",
    "I = Matrix(([1,0,0],[0,1,0],[0,0,1]))\n",
    "\n",
    "print((A + I).rref())\n",
    "print((A -5* I).rref())\n",
    "P = Matrix(([1,-1,-1], [2,1,0],[3,0,1]))\n",
    "print(Matrix.hstack(P, I).rref())"
   ]
  },
  {
   "cell_type": "code",
   "execution_count": 62,
   "metadata": {},
   "outputs": [
    {
     "name": "stdout",
     "output_type": "stream",
     "text": [
      "(Matrix([\n",
      "[1, 1, 1],\n",
      "[0, 0, 0],\n",
      "[0, 0, 0]]), (0,))\n",
      "(Matrix([\n",
      "[1, 0, -1],\n",
      "[0, 1, -1],\n",
      "[0, 0,  0]]), (0, 1))\n",
      "(Matrix([\n",
      "[1, 0, 0,  1/3,  1/3,  1/3],\n",
      "[0, 1, 0, -1/3,  2/3, -1/3],\n",
      "[0, 0, 1, -1/3, -1/3,  2/3]]), (0, 1, 2))\n"
     ]
    }
   ],
   "source": [
    "## 5.3.12 - diagonalize A\n",
    "A = Matrix(([3,1,1],[1,3,1],[1,1,3]))\n",
    "I = Matrix(([1,0,0],[0,1,0],[0,0,1]))\n",
    "\n",
    "print((A-2*I).rref())\n",
    "print((A-5*I).rref())\n",
    "P= Matrix(([1,-1,-1],[1,1,0],[1,0,1]))\n",
    "print(Matrix.hstack(P,I).rref())"
   ]
  },
  {
   "cell_type": "code",
   "execution_count": 64,
   "metadata": {},
   "outputs": [
    {
     "name": "stdout",
     "output_type": "stream",
     "text": [
      "(Matrix([\n",
      "[1, 2, -1],\n",
      "[0, 0,  0],\n",
      "[0, 0,  0]]), (0,))\n",
      "(Matrix([\n",
      "[1, 0, 1],\n",
      "[0, 1, 1],\n",
      "[0, 0, 0]]), (0, 1))\n",
      "(Matrix([\n",
      "[1, 0, 0,  1/2, -1, 1/2],\n",
      "[0, 1, 0,  1/2,  0, 1/2],\n",
      "[0, 0, 1, -1/2,  1, 1/2]]), (0, 1, 2))\n"
     ]
    }
   ],
   "source": [
    "## 5.3.13 - diagonalize A\n",
    "A = Matrix(([2,2,-1],[1,3,-1],[-1,-2,2]))\n",
    "print((A-I).rref())\n",
    "print((A-5*I).rref())\n",
    "P = Matrix(([-1,2,-1],[-1,1,0],[1,0,1]))    \n",
    "print(Matrix.hstack(P,I).rref())\n"
   ]
  }
 ],
 "metadata": {
  "kernelspec": {
   "display_name": "Python 3",
   "language": "python",
   "name": "python3"
  },
  "language_info": {
   "codemirror_mode": {
    "name": "ipython",
    "version": 3
   },
   "file_extension": ".py",
   "mimetype": "text/x-python",
   "name": "python",
   "nbconvert_exporter": "python",
   "pygments_lexer": "ipython3",
   "version": "3.11.2"
  }
 },
 "nbformat": 4,
 "nbformat_minor": 2
}
