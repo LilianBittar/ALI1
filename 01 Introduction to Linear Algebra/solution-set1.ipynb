{
 "cells": [
  {
   "cell_type": "code",
   "execution_count": 1,
   "metadata": {},
   "outputs": [],
   "source": [
    "import sympy as sp\n",
    "from sympy import *\n",
    "init_printing()"
   ]
  },
  {
   "cell_type": "code",
   "execution_count": 2,
   "metadata": {},
   "outputs": [
    {
     "name": "stdout",
     "output_type": "stream",
     "text": [
      "(Matrix([\n",
      "[1, 3, 0, -5],\n",
      "[0, 0, 1,  3]]), (0, 2))\n"
     ]
    }
   ],
   "source": [
    "## 1.2.7\n",
    "A = Matrix([[1,3,4,7],[3,9,7,6]])\n",
    "A_rref = A.rref()\n",
    "print(A_rref)"
   ]
  },
  {
   "cell_type": "code",
   "execution_count": 3,
   "metadata": {},
   "outputs": [
    {
     "name": "stdout",
     "output_type": "stream",
     "text": [
      "(Matrix([\n",
      "[1, 0, -2, 3],\n",
      "[0, 1, -2, 3]]), (0, 1))\n"
     ]
    }
   ],
   "source": [
    "## 1.2.9\n",
    "A = Matrix([[0,1,-2,3],[1,-3,4,-6]])\n",
    "A_rref = A.rref()\n",
    "print(A_rref)"
   ]
  },
  {
   "cell_type": "code",
   "execution_count": 4,
   "metadata": {},
   "outputs": [
    {
     "name": "stdout",
     "output_type": "stream",
     "text": [
      "(Matrix([\n",
      "[1, -2/3, 4/3, 0],\n",
      "[0,    0,   0, 0],\n",
      "[0,    0,   0, 0]]), (0,))\n"
     ]
    }
   ],
   "source": [
    "## 1.2.11\n",
    "A = Matrix([[3,-2,4,0],[9,-6,12,0],[6,-4,8,0]])\n",
    "A_rref = A.rref()\n",
    "print(A_rref)"
   ]
  },
  {
   "cell_type": "code",
   "execution_count": 5,
   "metadata": {},
   "outputs": [
    {
     "name": "stdout",
     "output_type": "stream",
     "text": [
      "Matrix([[1, 0, 0, 1], [0, 1, 0, 3], [0, 0, 1, 2]])\n",
      "⎡1  0  0  1⎤\n",
      "⎢          ⎥\n",
      "⎢0  1  0  3⎥\n",
      "⎢          ⎥\n",
      "⎣0  0  1  2⎦\n"
     ]
    }
   ],
   "source": [
    "## 1.2.33\n",
    "A = Matrix([[1,1,1,6],[1,2,4,15],[1,3,9,28]])\n",
    "\n",
    "# create a SymPy Matrix\n",
    "A = sp.Matrix(A)\n",
    "\n",
    "# Compute the reduced row-echelon form\n",
    "rref_matrix, pivot_columns = A.rref()\n",
    "\n",
    "# Print the reduced row-echelon form\n",
    "print(rref_matrix)\n",
    "sp.pprint(rref_matrix)"
   ]
  },
  {
   "cell_type": "code",
   "execution_count": 6,
   "metadata": {},
   "outputs": [
    {
     "name": "stdout",
     "output_type": "stream",
     "text": [
      "Matrix([[1, 0, 5, 2], [0, 1, 4, 3], [0, 0, 0, 0]])\n",
      "⎡1  0  5  2⎤\n",
      "⎢          ⎥\n",
      "⎢0  1  4  3⎥\n",
      "⎢          ⎥\n",
      "⎣0  0  0  0⎦\n"
     ]
    }
   ],
   "source": [
    "## 1.3.11\n",
    "A = Matrix([[1,0,5,2],[-2,1,-6,-1],[0,2,8,6]])\n",
    "A = sp.Matrix(A)\n",
    "rref_matrix, pivot_columns = A.rref()\n",
    "print(rref_matrix)\n",
    "sp.pprint(rref_matrix)"
   ]
  },
  {
   "cell_type": "code",
   "execution_count": 7,
   "metadata": {},
   "outputs": [
    {
     "name": "stdout",
     "output_type": "stream",
     "text": [
      "Matrix([[1, 0, 26/3, 0], [0, 1, 5/3, 0], [0, 0, 0, 1]])\n",
      "⎡1  0  26/3  0⎤\n",
      "⎢             ⎥\n",
      "⎢0  1  5/3   0⎥\n",
      "⎢             ⎥\n",
      "⎣0  0   0    1⎦\n"
     ]
    }
   ],
   "source": [
    "## 1.3.13\n",
    "A = Matrix([[1,-4,2,3],[0,3,5,-7],[-2,8,-4,-3]])\n",
    "A = sp.Matrix(A)\n",
    "rref_matrix, pivot_columns = A.rref()\n",
    "print(rref_matrix)\n",
    "sp.pprint(rref_matrix)"
   ]
  },
  {
   "cell_type": "code",
   "execution_count": 8,
   "metadata": {},
   "outputs": [
    {
     "name": "stdout",
     "output_type": "stream",
     "text": [
      "Matrix([[1, 0, 5, 2], [0, 1, 4, 3], [0, 0, 0, 0]])\n",
      "⎡1  0  5  2⎤\n",
      "⎢          ⎥\n",
      "⎢0  1  4  3⎥\n",
      "⎢          ⎥\n",
      "⎣0  0  0  0⎦\n"
     ]
    }
   ],
   "source": [
    "## 1.3.14\n",
    "A = Matrix([[1,0,5,2],[-2,1,-6,-1],[0,2,8,6]])\n",
    "A = sp.Matrix(A)\n",
    "rref_matrix, pivot_columns = A.rref()\n",
    "print(rref_matrix)\n",
    "sp.pprint(rref_matrix)"
   ]
  },
  {
   "cell_type": "code",
   "execution_count": 9,
   "metadata": {},
   "outputs": [
    {
     "name": "stdout",
     "output_type": "stream",
     "text": [
      "Matrix([[1, 0, 0, -11], [0, 1, 0, 3], [0, 0, 1, 0]])\n",
      "⎡1  0  0  -11⎤\n",
      "⎢            ⎥\n",
      "⎢0  1  0   3 ⎥\n",
      "⎢            ⎥\n",
      "⎣0  0  1   0 ⎦\n"
     ]
    }
   ],
   "source": [
    "##1.4.11\n",
    "A = Matrix([[1,3,-4,-2],[1,5,2,4],[-3,-7,6,12]])\n",
    "A = sp.Matrix(A)\n",
    "rref_matrix, pivot_columns = A.rref()\n",
    "print(rref_matrix)\n",
    "sp.pprint(rref_matrix)"
   ]
  },
  {
   "cell_type": "code",
   "execution_count": 10,
   "metadata": {},
   "outputs": [
    {
     "name": "stdout",
     "output_type": "stream",
     "text": [
      "Matrix([[1, 0, 3/2, 0], [0, 1, -1/2, 0], [0, 0, 0, 1], [0, 0, 0, 0]])\n",
      "⎡1  0  3/2   0⎤\n",
      "⎢             ⎥\n",
      "⎢0  1  -1/2  0⎥\n",
      "⎢             ⎥\n",
      "⎢0  0   0    1⎥\n",
      "⎢             ⎥\n",
      "⎣0  0   0    0⎦\n"
     ]
    }
   ],
   "source": [
    "##1.4.17\n",
    "A = Matrix([[1,3,0,3],[-1,-1,-1,1],[0,-4,2,-8],[2,0,3,-1]])\n",
    "A = sp.Matrix(A)\n",
    "rref_matrix, pivot_columns = A.rref()\n",
    "print(rref_matrix)\n",
    "sp.pprint(rref_matrix)"
   ]
  },
  {
   "cell_type": "code",
   "execution_count": 11,
   "metadata": {},
   "outputs": [
    {
     "name": "stdout",
     "output_type": "stream",
     "text": [
      "Matrix([[1, 0, -11, 0], [0, 1, 3, 0], [0, 0, 0, 1], [0, 0, 0, 0]])\n",
      "⎡1  0  -11  0⎤\n",
      "⎢            ⎥\n",
      "⎢0  1   3   0⎥\n",
      "⎢            ⎥\n",
      "⎢0  0   0   1⎥\n",
      "⎢            ⎥\n",
      "⎣0  0   0   0⎦\n"
     ]
    }
   ],
   "source": [
    "#1.14.18\n",
    "A = Matrix([[1,4,1,2],[0,1,3,-4],[0,2,6,7],[2,9,5,-7]])\n",
    "A = sp.Matrix(A)\n",
    "rref_matrix, pivot_columns = A.rref()\n",
    "print(rref_matrix)\n",
    "sp.pprint(rref_matrix)"
   ]
  },
  {
   "cell_type": "code",
   "execution_count": 12,
   "metadata": {},
   "outputs": [
    {
     "name": "stdout",
     "output_type": "stream",
     "text": [
      "Matrix([[1, 0, 9, -8], [0, 1, -4, 5]])\n",
      "⎡1  0  9   -8⎤\n",
      "⎢            ⎥\n",
      "⎣0  1  -4  5 ⎦\n"
     ]
    }
   ],
   "source": [
    "## 1.5.7\n",
    "A = Matrix([[1,3,-3,7],[0,1,-4,5]])\n",
    "A = sp.Matrix(A)\n",
    "rref_matrix, pivot_columns = A.rref()\n",
    "print(rref_matrix)\n",
    "sp.pprint(rref_matrix)"
   ]
  }
 ],
 "metadata": {
  "kernelspec": {
   "display_name": "base",
   "language": "python",
   "name": "python3"
  },
  "language_info": {
   "codemirror_mode": {
    "name": "ipython",
    "version": 3
   },
   "file_extension": ".py",
   "mimetype": "text/x-python",
   "name": "python",
   "nbconvert_exporter": "python",
   "pygments_lexer": "ipython3",
   "version": "3.9.13"
  },
  "orig_nbformat": 4
 },
 "nbformat": 4,
 "nbformat_minor": 2
}
