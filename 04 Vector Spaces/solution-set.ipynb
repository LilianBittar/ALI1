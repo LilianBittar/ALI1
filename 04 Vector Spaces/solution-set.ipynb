{
 "cells": [
  {
   "cell_type": "code",
   "execution_count": 1,
   "metadata": {},
   "outputs": [],
   "source": [
    "import sympy as sp\n",
    "from sympy import *\n",
    "x, y, z, u, c = symbols('x y z u c')\n",
    "init_printing()\n",
    "from IPython.display import Image, HTML"
   ]
  },
  {
   "cell_type": "code",
   "execution_count": 3,
   "metadata": {},
   "outputs": [
    {
     "data": {
      "text/latex": [
       "$\\displaystyle \\left[\\begin{matrix}0\\\\0\\\\0\\end{matrix}\\right]$"
      ],
      "text/plain": [
       "⎡0⎤\n",
       "⎢ ⎥\n",
       "⎢0⎥\n",
       "⎢ ⎥\n",
       "⎣0⎦"
      ]
     },
     "execution_count": 3,
     "metadata": {},
     "output_type": "execute_result"
    }
   ],
   "source": [
    "##4.2.2\n",
    "A = Matrix([[2,6,4],[-3,2,5],[-5,-4,1]])\n",
    "B = Matrix([1,-1,1])\n",
    "A*B"
   ]
  },
  {
   "cell_type": "code",
   "execution_count": 4,
   "metadata": {},
   "outputs": [
    {
     "data": {
      "text/latex": [
       "$\\displaystyle \\left( \\left[\\begin{matrix}1 & 0 & -2 & 4\\\\0 & 1 & 3 & -2\\end{matrix}\\right], \\  \\left( 0, \\  1\\right)\\right)$"
      ],
      "text/plain": [
       "⎛⎡1  0  -2  4 ⎤        ⎞\n",
       "⎜⎢            ⎥, (0, 1)⎟\n",
       "⎝⎣0  1  3   -2⎦        ⎠"
      ]
     },
     "execution_count": 4,
     "metadata": {},
     "output_type": "execute_result"
    }
   ],
   "source": [
    "##4.2.3\n",
    "A = Matrix([[1,2,4,0],[0,1,3,-2]]).rref()\n",
    "A"
   ]
  },
  {
   "cell_type": "code",
   "execution_count": 6,
   "metadata": {},
   "outputs": [
    {
     "data": {
      "text/latex": [
       "$\\displaystyle \\left( \\left[\\begin{matrix}1 & -3 & 0 & 0\\\\0 & 0 & 1 & 0\\end{matrix}\\right], \\  \\left( 0, \\  2\\right)\\right)$"
      ],
      "text/plain": [
       "⎛⎡1  -3  0  0⎤        ⎞\n",
       "⎜⎢           ⎥, (0, 2)⎟\n",
       "⎝⎣0  0   1  0⎦        ⎠"
      ]
     },
     "execution_count": 6,
     "metadata": {},
     "output_type": "execute_result"
    }
   ],
   "source": [
    "##4.2.4\n",
    "A = Matrix([[1,-3,0,0],[0,0,1,0]]).rref()\n",
    "A"
   ]
  },
  {
   "cell_type": "code",
   "execution_count": 7,
   "metadata": {},
   "outputs": [
    {
     "data": {
      "text/latex": [
       "$\\displaystyle \\left( \\left[\\begin{matrix}1 & -4 & 0 & 2 & 0\\\\0 & 0 & 1 & -5 & 0\\\\0 & 0 & 0 & 0 & 1\\end{matrix}\\right], \\  \\left( 0, \\  2, \\  4\\right)\\right)$"
      ],
      "text/plain": [
       "⎛⎡1  -4  0  2   0⎤           ⎞\n",
       "⎜⎢               ⎥           ⎟\n",
       "⎜⎢0  0   1  -5  0⎥, (0, 2, 4)⎟\n",
       "⎜⎢               ⎥           ⎟\n",
       "⎝⎣0  0   0  0   1⎦           ⎠"
      ]
     },
     "execution_count": 7,
     "metadata": {},
     "output_type": "execute_result"
    }
   ],
   "source": [
    "##4.2.5\n",
    "A = Matrix([[1,-4,0,2,0],[0,0,1,-5,0],[0,0,0,0,2]]).rref()\n",
    "A"
   ]
  },
  {
   "cell_type": "code",
   "execution_count": 8,
   "metadata": {},
   "outputs": [
    {
     "data": {
      "text/latex": [
       "$\\displaystyle \\left( \\left[\\begin{matrix}1 & 0 & 5 & -6 & 1\\\\0 & 1 & -3 & 1 & 0\\\\0 & 0 & 0 & 0 & 0\\end{matrix}\\right], \\  \\left( 0, \\  1\\right)\\right)$"
      ],
      "text/plain": [
       "⎛⎡1  0  5   -6  1⎤        ⎞\n",
       "⎜⎢               ⎥        ⎟\n",
       "⎜⎢0  1  -3  1   0⎥, (0, 1)⎟\n",
       "⎜⎢               ⎥        ⎟\n",
       "⎝⎣0  0  0   0   0⎦        ⎠"
      ]
     },
     "execution_count": 8,
     "metadata": {},
     "output_type": "execute_result"
    }
   ],
   "source": [
    "##4.2.6\n",
    "A = Matrix([[1,3,-4,-3,1],[0,1,-3,1,0],[0,0,0,0,0]]).rref()\n",
    "A"
   ]
  },
  {
   "cell_type": "code",
   "execution_count": 20,
   "metadata": {},
   "outputs": [
    {
     "data": {
      "text/latex": [
       "$\\displaystyle \\left[ \\left[\\begin{matrix}2\\\\-1\\\\1\\\\0\\end{matrix}\\right]\\right]$"
      ],
      "text/plain": [
       "⎡⎡2 ⎤⎤\n",
       "⎢⎢  ⎥⎥\n",
       "⎢⎢-1⎥⎥\n",
       "⎢⎢  ⎥⎥\n",
       "⎢⎢1 ⎥⎥\n",
       "⎢⎢  ⎥⎥\n",
       "⎣⎣0 ⎦⎦"
      ]
     },
     "execution_count": 20,
     "metadata": {},
     "output_type": "execute_result"
    }
   ],
   "source": [
    "##4.3.9\n",
    "A = Matrix([[1,0,-2,-2],[0,1,1,4],[3,-1,-7,3]])\n",
    "A.nullspace()\n"
   ]
  },
  {
   "cell_type": "code",
   "execution_count": 23,
   "metadata": {},
   "outputs": [
    {
     "data": {
      "text/latex": [
       "$\\displaystyle \\left[ \\left[\\begin{matrix}-2\\\\1\\\\0\\\\1\\\\0\\end{matrix}\\right], \\  \\left[\\begin{matrix}9\\\\-10\\\\2\\\\0\\\\1\\end{matrix}\\right]\\right]$"
      ],
      "text/plain": [
       "⎡⎡-2⎤  ⎡ 9 ⎤⎤\n",
       "⎢⎢  ⎥  ⎢   ⎥⎥\n",
       "⎢⎢1 ⎥  ⎢-10⎥⎥\n",
       "⎢⎢  ⎥  ⎢   ⎥⎥\n",
       "⎢⎢0 ⎥, ⎢ 2 ⎥⎥\n",
       "⎢⎢  ⎥  ⎢   ⎥⎥\n",
       "⎢⎢1 ⎥  ⎢ 0 ⎥⎥\n",
       "⎢⎢  ⎥  ⎢   ⎥⎥\n",
       "⎣⎣0 ⎦  ⎣ 1 ⎦⎦"
      ]
     },
     "execution_count": 23,
     "metadata": {},
     "output_type": "execute_result"
    }
   ],
   "source": [
    "##4.3.10\n",
    "A = Matrix([[1,1,-2,1,5],[0,1,6,-1,-2],[0,0,-8,0,16]])\n",
    "A.nullspace()"
   ]
  },
  {
   "cell_type": "code",
   "execution_count": 24,
   "metadata": {},
   "outputs": [
    {
     "data": {
      "text/latex": [
       "$\\displaystyle \\left( \\left[\\begin{matrix}1 & 0 & 0 & -1 & 0\\\\0 & 1 & 0 & 2 & 0\\\\0 & 0 & 1 & -1 & 0\\\\0 & 0 & 0 & 0 & 1\\\\0 & 0 & 0 & 0 & 0\\end{matrix}\\right], \\  \\left( 0, \\  1, \\  2, \\  4\\right)\\right)$"
      ],
      "text/plain": [
       "⎛⎡1  0  0  -1  0⎤              ⎞\n",
       "⎜⎢              ⎥              ⎟\n",
       "⎜⎢0  1  0  2   0⎥              ⎟\n",
       "⎜⎢              ⎥              ⎟\n",
       "⎜⎢0  0  1  -1  0⎥, (0, 1, 2, 4)⎟\n",
       "⎜⎢              ⎥              ⎟\n",
       "⎜⎢0  0  0  0   1⎥              ⎟\n",
       "⎜⎢              ⎥              ⎟\n",
       "⎝⎣0  0  0  0   0⎦              ⎠"
      ]
     },
     "execution_count": 24,
     "metadata": {},
     "output_type": "execute_result"
    }
   ],
   "source": [
    "##4.3.17\n",
    "A = Matrix([[2,4,-2,8,-8],[0,0,-4,4,4],[-4,2,0,8,0],[-6,-4,1,-3,0],[0,4,-7,15,1]])\n",
    "A.rref()"
   ]
  },
  {
   "cell_type": "code",
   "execution_count": 25,
   "metadata": {},
   "outputs": [
    {
     "data": {
      "text/latex": [
       "$\\displaystyle \\left( \\left[\\begin{matrix}1 & 3 & 0 & 3 & 0\\\\0 & 0 & 1 & -1 & 0\\\\0 & 0 & 0 & 0 & 1\\\\0 & 0 & 0 & 0 & 0\\end{matrix}\\right], \\  \\left( 0, \\  2, \\  4\\right)\\right)$"
      ],
      "text/plain": [
       "⎛⎡1  3  0  3   0⎤           ⎞\n",
       "⎜⎢              ⎥           ⎟\n",
       "⎜⎢0  0  1  -1  0⎥           ⎟\n",
       "⎜⎢              ⎥, (0, 2, 4)⎟\n",
       "⎜⎢0  0  0  0   1⎥           ⎟\n",
       "⎜⎢              ⎥           ⎟\n",
       "⎝⎣0  0  0  0   0⎦           ⎠"
      ]
     },
     "execution_count": 25,
     "metadata": {},
     "output_type": "execute_result"
    }
   ],
   "source": [
    "##4.6.2\n",
    "A = Matrix([[1,3,4,-1,2],[0,0,1,-1,1],[0,0,0,0,-5],[0,0,0,0,0]])\n",
    "A.rref()"
   ]
  }
 ],
 "metadata": {
  "kernelspec": {
   "display_name": "Python 3",
   "language": "python",
   "name": "python3"
  },
  "language_info": {
   "codemirror_mode": {
    "name": "ipython",
    "version": 3
   },
   "file_extension": ".py",
   "mimetype": "text/x-python",
   "name": "python",
   "nbconvert_exporter": "python",
   "pygments_lexer": "ipython3",
   "version": "3.11.2"
  },
  "orig_nbformat": 4
 },
 "nbformat": 4,
 "nbformat_minor": 2
}
