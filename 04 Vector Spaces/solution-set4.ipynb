{
 "cells": [
  {
   "cell_type": "code",
   "execution_count": 2,
   "metadata": {},
   "outputs": [],
   "source": [
    "from sympy import *\n",
    "from fractions import Fraction\n",
    "from scipy.stats import binom\n",
    "from scipy.stats import poisson\n",
    "from scipy.stats import hypergeom\n",
    "from scipy.stats import nbinom\n",
    "from scipy.stats import expon\n",
    "from scipy.stats import norm\n",
    "from IPython.display import display, Latex, HTML, Math\n",
    "from scipy import stats\n",
    "import numpy as np\n",
    "import sympy as sp\n",
    "import pandas as pd\n",
    "import math as math\n",
    "from matplotlib import pyplot as plt\n",
    "%matplotlib inline\n",
    "x, y, z, u, c = symbols('x y z u c')\n",
    "init_printing()"
   ]
  },
  {
   "cell_type": "code",
   "execution_count": 3,
   "metadata": {},
   "outputs": [
    {
     "name": "stdout",
     "output_type": "stream",
     "text": [
      "Matrix([[0], [0], [0]])\n"
     ]
    }
   ],
   "source": [
    "##4.2.2\n",
    "A = Matrix([[2,6,4],[-3,2,5],[-5,-4,1]])\n",
    "B = Matrix([1,-1,1])\n",
    "print(A*B)\n",
    "\n",
    "# Yes, it is in Nul A"
   ]
  },
  {
   "cell_type": "code",
   "execution_count": 4,
   "metadata": {},
   "outputs": [
    {
     "name": "stdout",
     "output_type": "stream",
     "text": [
      "(Matrix([\n",
      "[1, 0, -2,  4],\n",
      "[0, 1,  3, -2]]), (0, 1))\n"
     ]
    }
   ],
   "source": [
    "##4.2.3\n",
    "A = Matrix([[1,2,4,0],[0,1,3,-2]])\n",
    "print(A.rref())"
   ]
  },
  {
   "cell_type": "code",
   "execution_count": 5,
   "metadata": {},
   "outputs": [
    {
     "name": "stdout",
     "output_type": "stream",
     "text": [
      "(Matrix([\n",
      "[1, -3, 0, 0],\n",
      "[0,  0, 1, 0]]), (0, 2))\n"
     ]
    }
   ],
   "source": [
    "##4.2.4\n",
    "A = Matrix([[1,-3,0,0],[0,0,1,0]])\n",
    "print(A.rref())\n"
   ]
  },
  {
   "cell_type": "code",
   "execution_count": 6,
   "metadata": {},
   "outputs": [
    {
     "name": "stdout",
     "output_type": "stream",
     "text": [
      "(Matrix([\n",
      "[1, -4, 0,  2, 0],\n",
      "[0,  0, 1, -5, 0],\n",
      "[0,  0, 0,  0, 1]]), (0, 2, 4))\n"
     ]
    }
   ],
   "source": [
    "##4.2.5\n",
    "A = Matrix([[1,-4,0,2,0],[0,0,1,-5,0],[0,0,0,0,2]])\n",
    "print(A.rref())\n"
   ]
  },
  {
   "cell_type": "code",
   "execution_count": 7,
   "metadata": {},
   "outputs": [
    {
     "name": "stdout",
     "output_type": "stream",
     "text": [
      "(Matrix([\n",
      "[1, 0,  5, -6, 1],\n",
      "[0, 1, -3,  1, 0],\n",
      "[0, 0,  0,  0, 0]]), (0, 1))\n"
     ]
    }
   ],
   "source": [
    "##4.2.6\n",
    "A = Matrix([[1,3,-4,-3,1],[0,1,-3,1,0],[0,0,0,0,0]])\n",
    "print(A.rref())\n"
   ]
  },
  {
   "cell_type": "code",
   "execution_count": 12,
   "metadata": {},
   "outputs": [
    {
     "name": "stdout",
     "output_type": "stream",
     "text": [
      "(Matrix([\n",
      "[1, 0, 0, -1],\n",
      "[0, 1, 0, -1],\n",
      "[0, 0, 1,  0],\n",
      "[0, 0, 0,  0]]), (0, 1, 2))\n",
      "Matrix([[0], [0], [0], [0]])\n",
      "(Matrix([\n",
      "[1, 0, 0, -1, 1],\n",
      "[0, 1, 0, -1, 1],\n",
      "[0, 0, 1,  0, 0],\n",
      "[0, 0, 0,  0, 0]]), (0, 1, 2))\n"
     ]
    }
   ],
   "source": [
    "## 4.2.24\n",
    "A = Matrix([[10,-8,-2,-2],[0,2,2,-2],[1,-1,6,0], [1, 1, 0, -2]])\n",
    "print(A.rref())\n",
    "W = Matrix([2, 2, 0, 2])\n",
    "print(A*W)\n",
    "print(Matrix.hstack(A, W).rref())\n"
   ]
  },
  {
   "cell_type": "code",
   "execution_count": 13,
   "metadata": {},
   "outputs": [
    {
     "name": "stdout",
     "output_type": "stream",
     "text": [
      "(Matrix([\n",
      "[1, 0, -2, 0],\n",
      "[0, 1,  1, 0],\n",
      "[0, 0,  0, 1]]), (0, 1, 3))\n"
     ]
    }
   ],
   "source": [
    "##4.3.9\n",
    "A = Matrix([[1,0,-2,-2],[0,1,1,4],[3,-1,-7,3]])\n",
    "print(A.rref())"
   ]
  },
  {
   "cell_type": "code",
   "execution_count": 14,
   "metadata": {},
   "outputs": [
    {
     "name": "stdout",
     "output_type": "stream",
     "text": [
      "(Matrix([\n",
      "[1, 0, 0,  2,  3],\n",
      "[0, 1, 0, -1, -2],\n",
      "[0, 0, 1,  0, -2]]), (0, 1, 2))\n"
     ]
    }
   ],
   "source": [
    "A = Matrix([[1,1,-2,1,5],[0,1,0,-1,-2],[0,0,-8,0,16]])\n",
    "print(A.rref())"
   ]
  },
  {
   "cell_type": "code",
   "execution_count": 15,
   "metadata": {},
   "outputs": [
    {
     "name": "stdout",
     "output_type": "stream",
     "text": [
      "(Matrix([\n",
      "[1, 0, 0, -1, 0],\n",
      "[0, 1, 0,  2, 0],\n",
      "[0, 0, 1, -1, 0],\n",
      "[0, 0, 0,  0, 1],\n",
      "[0, 0, 0,  0, 0]]), (0, 1, 2, 4))\n"
     ]
    }
   ],
   "source": [
    "##4.3.17\n",
    "A = Matrix([[2,4,-2,8,-8],[0,0,-4,4,4],[-4,2,0,8,0],[-6,-4,1,-3,0],[0,4,-7,15,1]])\n",
    "print(A.rref())"
   ]
  },
  {
   "cell_type": "code",
   "execution_count": 16,
   "metadata": {},
   "outputs": [
    {
     "name": "stdout",
     "output_type": "stream",
     "text": [
      "(Matrix([\n",
      "[1, 0, 0,  0, 0],\n",
      "[0, 1, 0,  2, 0],\n",
      "[0, 0, 1, -1, 0],\n",
      "[0, 0, 0,  0, 1],\n",
      "[0, 0, 0,  0, 0]]), (0, 1, 2, 4))\n"
     ]
    }
   ],
   "source": [
    "##4.3.18\n",
    "A = Matrix(([-3,3,0,6,-6],\n",
    "            [2,0,2,-2,3],\n",
    "            [6,-9,-4,-14,0],\n",
    "            [0,0,0,0,-1],\n",
    "            [-7,6,-1,13,0]))\n",
    "print(A.rref())"
   ]
  },
  {
   "cell_type": "code",
   "execution_count": 18,
   "metadata": {},
   "outputs": [
    {
     "name": "stdout",
     "output_type": "stream",
     "text": [
      "(Matrix([\n",
      "[1, 0,  3],\n",
      "[0, 1, -1],\n",
      "[0, 0,  0],\n",
      "[0, 0,  0]]), (0, 1))\n",
      "(Matrix([\n",
      "[1, 0, 0],\n",
      "[0, 1, 0],\n",
      "[0, 0, 1],\n",
      "[0, 0, 0]]), (0, 1, 2))\n"
     ]
    }
   ],
   "source": [
    "##4.3.36\n",
    "A = Matrix(([1,0,3],\n",
    "            [2,2,4],\n",
    "            [0,-1,1],\n",
    "            [-1,1,-4]))\n",
    "print(A.rref())\n",
    "\n",
    "K = Matrix(([-2,2,-1],\n",
    "            [-2,3,4],\n",
    "            [-1,2,6],\n",
    "            [3,-6,-2]))\n",
    "\n",
    "print(K.rref())\n",
    "\n"
   ]
  },
  {
   "cell_type": "code",
   "execution_count": 19,
   "metadata": {},
   "outputs": [
    {
     "name": "stdout",
     "output_type": "stream",
     "text": [
      "(Matrix([\n",
      "[1, 0,  3, -2, 0, 0],\n",
      "[0, 1, -1,  1, 0, 0],\n",
      "[0, 0,  0,  0, 1, 0],\n",
      "[0, 0,  0,  0, 0, 1]]), (0, 1, 4, 5))\n"
     ]
    }
   ],
   "source": [
    "A = Matrix(([1,0,3,-2,2,-1],\n",
    "            [2,2,4,-2,3,4],\n",
    "            [0,-1,1,-1,2,6],\n",
    "            [-1,1,-4,3,-6,-2]))\n",
    "print(A.rref())\n"
   ]
  },
  {
   "cell_type": "code",
   "execution_count": 20,
   "metadata": {},
   "outputs": [
    {
     "name": "stdout",
     "output_type": "stream",
     "text": [
      "(Matrix([\n",
      "[1, 0, 0],\n",
      "[0, 1, 0],\n",
      "[0, 0, 1],\n",
      "[0, 0, 0]]), (0, 1, 2))\n"
     ]
    }
   ],
   "source": [
    "##4.5.6\n",
    "A = Matrix(([3,0,-1],\n",
    "            [0,-1,-3],\n",
    "            [-7,6,5],\n",
    "            [-3,0,1]))\n",
    "print(A.rref())"
   ]
  },
  {
   "cell_type": "code",
   "execution_count": 22,
   "metadata": {},
   "outputs": [
    {
     "name": "stdout",
     "output_type": "stream",
     "text": [
      "(Matrix([\n",
      "[1, 0,  1, 0],\n",
      "[0, 1, -1, 0],\n",
      "[0, 0,  0, 1]]), (0, 1, 3))\n"
     ]
    }
   ],
   "source": [
    "##4.5.11\n",
    "A = Matrix(([1,3,-2,5],\n",
    "            [0,1,-1,2],\n",
    "            [2,1,1,2]))\n",
    "print(A.rref())"
   ]
  },
  {
   "cell_type": "code",
   "execution_count": 23,
   "metadata": {},
   "outputs": [
    {
     "name": "stdout",
     "output_type": "stream",
     "text": [
      "(Matrix([\n",
      "[1, 3, 0,  3, 0],\n",
      "[0, 0, 1, -1, 0],\n",
      "[0, 0, 0,  0, 1],\n",
      "[0, 0, 0,  0, 0]]), (0, 2, 4))\n"
     ]
    }
   ],
   "source": [
    "##4.6.2\n",
    "A = Matrix(([1,3,4,-1,2],\n",
    "            [0,0,1,-1,1],\n",
    "            [0,0,0,0,-5],\n",
    "            [0,0,0,0,0]))\n",
    "\n",
    "print(A.rref())"
   ]
  },
  {
   "cell_type": "code",
   "execution_count": 24,
   "metadata": {},
   "outputs": [
    {
     "name": "stdout",
     "output_type": "stream",
     "text": [
      "(Matrix([\n",
      "[1, 0, 0, 1, 0, 0],\n",
      "[0, 1, 0, 1, 0, 0],\n",
      "[0, 0, 1, 1, 0, 0],\n",
      "[0, 0, 0, 0, 1, 0],\n",
      "[0, 0, 0, 0, 0, 1]]), (0, 1, 2, 4, 5))\n"
     ]
    }
   ],
   "source": [
    "##4.6.4\n",
    "A = Matrix(([1,1,-2,0,1,-2],\n",
    "            [0,1,-1,0,-3,-1],\n",
    "            [0,0,1,1,-13,-1],\n",
    "            [0,0,0,0,1,1]\n",
    "            ,[0,0,0,0,0,1]))\n",
    "print(A.rref())"
   ]
  },
  {
   "cell_type": "code",
   "execution_count": 28,
   "metadata": {},
   "outputs": [
    {
     "name": "stdout",
     "output_type": "stream",
     "text": [
      "(Matrix([\n",
      "[1, 0, 13/2, 0,     5, 0, -3],\n",
      "[0, 1, 11/2, 0,   1/2, 0,  2],\n",
      "[0, 0,    0, 1, -11/2, 0,  7],\n",
      "[0, 0,    0, 0,     0, 1,  1],\n",
      "[0, 0,    0, 0,     0, 0,  0]]), (0, 1, 3, 5))\n",
      "(Matrix([\n",
      "[1, 0, 0, 0,  -2/11],\n",
      "[0, 1, 0, 0, -41/11],\n",
      "[0, 0, 1, 0,      0],\n",
      "[0, 0, 0, 1,  28/11],\n",
      "[0, 0, 0, 0,      0],\n",
      "[0, 0, 0, 0,      0],\n",
      "[0, 0, 0, 0,      0]]), (0, 1, 2, 3))\n"
     ]
    }
   ],
   "source": [
    "##4.6.35\n",
    "A = Matrix(([7,-9,-4,5,3,-3,-7],\n",
    "            [-4,6,7,-2,-6,-5,5],\n",
    "            [5,-7,-6,5,-6,2,8],\n",
    "            [-3,5,8,-1,-7,-4,8],\n",
    "            [6,-8,-5,4,4,9,3]))\n",
    "print(A.rref())\n",
    "print(A.T.rref())"
   ]
  }
 ],
 "metadata": {
  "kernelspec": {
   "display_name": "Python 3",
   "language": "python",
   "name": "python3"
  },
  "language_info": {
   "codemirror_mode": {
    "name": "ipython",
    "version": 3
   },
   "file_extension": ".py",
   "mimetype": "text/x-python",
   "name": "python",
   "nbconvert_exporter": "python",
   "pygments_lexer": "ipython3",
   "version": "3.11.2"
  },
  "orig_nbformat": 4
 },
 "nbformat": 4,
 "nbformat_minor": 2
}
