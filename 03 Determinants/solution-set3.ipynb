{
 "cells": [
  {
   "cell_type": "code",
   "execution_count": 1,
   "metadata": {},
   "outputs": [],
   "source": [
    "from sympy import *\n",
    "from fractions import Fraction\n",
    "from scipy.stats import binom\n",
    "from scipy.stats import poisson\n",
    "from scipy.stats import hypergeom\n",
    "from scipy.stats import nbinom\n",
    "from scipy.stats import expon\n",
    "from scipy.stats import norm\n",
    "from IPython.display import display, Latex, HTML, Math\n",
    "\n",
    "from scipy import stats\n",
    "import numpy as np\n",
    "import sympy as sp\n",
    "import pandas as pd\n",
    "import math as math\n",
    "from matplotlib import pyplot as plt\n",
    "import numpy as np\n",
    "%matplotlib inline\n",
    "x, y, z, u, c = symbols('x y z u c')\n",
    "init_printing()"
   ]
  },
  {
   "cell_type": "code",
   "execution_count": null,
   "metadata": {},
   "outputs": [],
   "source": [
    "A = Matrix([[3, 6, 9, 12], [0, 3, 1, 7], [1, 2, 2, 1], [0, 0, 2, 1]])\n"
   ]
  },
  {
   "cell_type": "code",
   "execution_count": 4,
   "metadata": {},
   "outputs": [
    {
     "name": "stdout",
     "output_type": "stream",
     "text": [
      "23\n"
     ]
    }
   ],
   "source": [
    "A = Matrix([[1, 3, 0, 0, 0], [2, 0, 1, 2, 3], [0, 0, 2, -1, 1], [-1, 2, 1, 2, 0], [0, 1, 0, 2, 0]])\n",
    "detA = A.det()\n",
    "print(detA)"
   ]
  }
 ],
 "metadata": {
  "kernelspec": {
   "display_name": "base",
   "language": "python",
   "name": "python3"
  },
  "language_info": {
   "codemirror_mode": {
    "name": "ipython",
    "version": 3
   },
   "file_extension": ".py",
   "mimetype": "text/x-python",
   "name": "python",
   "nbconvert_exporter": "python",
   "pygments_lexer": "ipython3",
   "version": "3.9.13"
  }
 },
 "nbformat": 4,
 "nbformat_minor": 2
}
