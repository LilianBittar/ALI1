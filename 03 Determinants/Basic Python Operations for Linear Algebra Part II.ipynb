{
 "cells": [
  {
   "cell_type": "code",
   "execution_count": 89,
   "metadata": {},
   "outputs": [],
   "source": [
    "import sympy as sp\n",
    "from sympy import *\n",
    "init_printing()\n",
    "from IPython.display import display, Latex, HTML\n",
    "import numpy as np"
   ]
  },
  {
   "cell_type": "markdown",
   "metadata": {},
   "source": [
    "#### Loading .mat files"
   ]
  },
  {
   "cell_type": "code",
   "execution_count": 6,
   "metadata": {},
   "outputs": [
    {
     "data": {
      "text/plain": [
       "dict_keys(['__header__', '__version__', '__globals__', 'CPU', 'Order_lines_per_day'])"
      ]
     },
     "execution_count": 6,
     "metadata": {},
     "output_type": "execute_result"
    }
   ],
   "source": [
    "# .mat files are files that are stored in Matlab format and are commonly used in exam cases.\n",
    "# Make sure the file is located in home or else add directory.\n",
    "from scipy.io import loadmat\n",
    "Data = loadmat(\"ALI2018_6.mat\")\n",
    "Data.keys()"
   ]
  },
  {
   "cell_type": "markdown",
   "metadata": {},
   "source": [
    "#### Loading .csv files"
   ]
  },
  {
   "cell_type": "code",
   "execution_count": 5,
   "metadata": {
    "scrolled": true
   },
   "outputs": [
    {
     "data": {
      "text/html": [
       "<div>\n",
       "<style scoped>\n",
       "    .dataframe tbody tr th:only-of-type {\n",
       "        vertical-align: middle;\n",
       "    }\n",
       "\n",
       "    .dataframe tbody tr th {\n",
       "        vertical-align: top;\n",
       "    }\n",
       "\n",
       "    .dataframe thead th {\n",
       "        text-align: right;\n",
       "    }\n",
       "</style>\n",
       "<table border=\"1\" class=\"dataframe\">\n",
       "  <thead>\n",
       "    <tr style=\"text-align: right;\">\n",
       "      <th></th>\n",
       "      <th>year</th>\n",
       "      <th>month</th>\n",
       "      <th>day</th>\n",
       "      <th>dep_time</th>\n",
       "      <th>dep_delay</th>\n",
       "      <th>arr_time</th>\n",
       "      <th>arr_delay</th>\n",
       "      <th>carrier</th>\n",
       "      <th>tailnum</th>\n",
       "      <th>flight</th>\n",
       "      <th>origin</th>\n",
       "      <th>dest</th>\n",
       "      <th>air_time</th>\n",
       "      <th>distance</th>\n",
       "      <th>hour</th>\n",
       "      <th>minute</th>\n",
       "    </tr>\n",
       "  </thead>\n",
       "  <tbody>\n",
       "    <tr>\n",
       "      <th>0</th>\n",
       "      <td>2013</td>\n",
       "      <td>1</td>\n",
       "      <td>1</td>\n",
       "      <td>517.0</td>\n",
       "      <td>2.0</td>\n",
       "      <td>830.0</td>\n",
       "      <td>11.0</td>\n",
       "      <td>UA</td>\n",
       "      <td>N14228</td>\n",
       "      <td>1545</td>\n",
       "      <td>EWR</td>\n",
       "      <td>IAH</td>\n",
       "      <td>227.0</td>\n",
       "      <td>1400</td>\n",
       "      <td>5.0</td>\n",
       "      <td>17.0</td>\n",
       "    </tr>\n",
       "    <tr>\n",
       "      <th>1</th>\n",
       "      <td>2013</td>\n",
       "      <td>1</td>\n",
       "      <td>1</td>\n",
       "      <td>533.0</td>\n",
       "      <td>4.0</td>\n",
       "      <td>850.0</td>\n",
       "      <td>20.0</td>\n",
       "      <td>UA</td>\n",
       "      <td>N24211</td>\n",
       "      <td>1714</td>\n",
       "      <td>LGA</td>\n",
       "      <td>IAH</td>\n",
       "      <td>227.0</td>\n",
       "      <td>1416</td>\n",
       "      <td>5.0</td>\n",
       "      <td>33.0</td>\n",
       "    </tr>\n",
       "    <tr>\n",
       "      <th>2</th>\n",
       "      <td>2013</td>\n",
       "      <td>1</td>\n",
       "      <td>1</td>\n",
       "      <td>542.0</td>\n",
       "      <td>2.0</td>\n",
       "      <td>923.0</td>\n",
       "      <td>33.0</td>\n",
       "      <td>AA</td>\n",
       "      <td>N619AA</td>\n",
       "      <td>1141</td>\n",
       "      <td>JFK</td>\n",
       "      <td>MIA</td>\n",
       "      <td>160.0</td>\n",
       "      <td>1089</td>\n",
       "      <td>5.0</td>\n",
       "      <td>42.0</td>\n",
       "    </tr>\n",
       "    <tr>\n",
       "      <th>3</th>\n",
       "      <td>2013</td>\n",
       "      <td>1</td>\n",
       "      <td>1</td>\n",
       "      <td>554.0</td>\n",
       "      <td>-6.0</td>\n",
       "      <td>812.0</td>\n",
       "      <td>-25.0</td>\n",
       "      <td>DL</td>\n",
       "      <td>N668DN</td>\n",
       "      <td>461</td>\n",
       "      <td>LGA</td>\n",
       "      <td>ATL</td>\n",
       "      <td>116.0</td>\n",
       "      <td>762</td>\n",
       "      <td>5.0</td>\n",
       "      <td>54.0</td>\n",
       "    </tr>\n",
       "    <tr>\n",
       "      <th>4</th>\n",
       "      <td>2013</td>\n",
       "      <td>1</td>\n",
       "      <td>1</td>\n",
       "      <td>554.0</td>\n",
       "      <td>-4.0</td>\n",
       "      <td>740.0</td>\n",
       "      <td>12.0</td>\n",
       "      <td>UA</td>\n",
       "      <td>N39463</td>\n",
       "      <td>1696</td>\n",
       "      <td>EWR</td>\n",
       "      <td>ORD</td>\n",
       "      <td>150.0</td>\n",
       "      <td>719</td>\n",
       "      <td>5.0</td>\n",
       "      <td>54.0</td>\n",
       "    </tr>\n",
       "  </tbody>\n",
       "</table>\n",
       "</div>"
      ],
      "text/plain": [
       "   year  month  day  dep_time  dep_delay  arr_time  arr_delay carrier tailnum  \\\n",
       "0  2013      1    1     517.0        2.0     830.0       11.0      UA  N14228   \n",
       "1  2013      1    1     533.0        4.0     850.0       20.0      UA  N24211   \n",
       "2  2013      1    1     542.0        2.0     923.0       33.0      AA  N619AA   \n",
       "3  2013      1    1     554.0       -6.0     812.0      -25.0      DL  N668DN   \n",
       "4  2013      1    1     554.0       -4.0     740.0       12.0      UA  N39463   \n",
       "\n",
       "   flight origin dest  air_time  distance  hour  minute  \n",
       "0    1545    EWR  IAH     227.0      1400   5.0    17.0  \n",
       "1    1714    LGA  IAH     227.0      1416   5.0    33.0  \n",
       "2    1141    JFK  MIA     160.0      1089   5.0    42.0  \n",
       "3     461    LGA  ATL     116.0       762   5.0    54.0  \n",
       "4    1696    EWR  ORD     150.0       719   5.0    54.0  "
      ]
     },
     "execution_count": 5,
     "metadata": {},
     "output_type": "execute_result"
    }
   ],
   "source": [
    "# Make sure the file is located in home or else add directory.\n",
    "import pandas as pd \n",
    "myFile = pd.read_csv('flights.csv', sep=',')\n",
    "\n",
    "# Note that I specify the seperator. You may also want to omit headers,\n",
    "# if there are no headers. See the documentation for read_csv"
   ]
  },
  {
   "cell_type": "markdown",
   "metadata": {},
   "source": [
    "#### Changing formates"
   ]
  },
  {
   "cell_type": "code",
   "execution_count": 56,
   "metadata": {},
   "outputs": [
    {
     "data": {
      "text/plain": [
       "array([[16483],\n",
       "       [13142],\n",
       "       [12015],\n",
       "       [11986],\n",
       "       [ 1119],\n",
       "       [    0],\n",
       "       [    0],\n",
       "       [12259],\n",
       "       [ 6531],\n",
       "       [14086],\n",
       "       [12797],\n",
       "       [13141],\n",
       "       [  454],\n",
       "       [    1],\n",
       "       [ 5971],\n",
       "       [10901],\n",
       "       [14271],\n",
       "       [13728],\n",
       "       [12938],\n",
       "       [ 1158],\n",
       "       [    0],\n",
       "       [11450],\n",
       "       [ 5311],\n",
       "       [17073],\n",
       "       [11336],\n",
       "       [ 7340],\n",
       "       [11330],\n",
       "       [    0],\n",
       "       [10679],\n",
       "       [12803],\n",
       "       [12827]], dtype=uint16)"
      ]
     },
     "execution_count": 56,
     "metadata": {},
     "output_type": "execute_result"
    }
   ],
   "source": [
    "# Sometimes the data type is stored insufficiently. Consider the following:\n",
    "x = Data['Order_lines_per_day']\n",
    "y = Data['CPU']\n",
    "x"
   ]
  },
  {
   "cell_type": "code",
   "execution_count": 27,
   "metadata": {},
   "outputs": [
    {
     "data": {
      "text/plain": [
       "array([42569], dtype=uint16)"
      ]
     },
     "execution_count": 27,
     "metadata": {},
     "output_type": "execute_result"
    }
   ],
   "source": [
    "# uint16 is an unsigned 16 bit integer (0 to 65535). That means you can not perform operations greater than this:\n",
    "x[0]**2"
   ]
  },
  {
   "cell_type": "code",
   "execution_count": 22,
   "metadata": {},
   "outputs": [
    {
     "data": {
      "image/png": "[encoded data removed]",
      "text/latex": [
       "$$271689289$$"
      ],
      "text/plain": [
       "271689289"
      ]
     },
     "execution_count": 22,
     "metadata": {},
     "output_type": "execute_result"
    }
   ],
   "source": [
    "# But 16483 squared is\n",
    "16483**2"
   ]
  },
  {
   "cell_type": "code",
   "execution_count": 29,
   "metadata": {},
   "outputs": [
    {
     "name": "stdout",
     "output_type": "stream",
     "text": [
      "[2.71689289e+08]\n"
     ]
    }
   ],
   "source": [
    "# So to avoid these problem, symply convert to float or BigInt:\n",
    "x = x.astype(float)\n",
    "print(x[0]**2)\n"
   ]
  },
  {
   "cell_type": "markdown",
   "metadata": {},
   "source": [
    "#### Place entries in a diagonal entries"
   ]
  },
  {
   "cell_type": "code",
   "execution_count": 38,
   "metadata": {},
   "outputs": [
    {
     "data": {
      "image/png": "[encoded data removed]",
      "text/latex": [
       "$$\\left[\\begin{matrix}2 & 0 & 0 & 0\\\\0 & 4 & 0 & 0\\\\0 & 0 & 9 & 0\\\\0 & 0 & 0 & 16\\end{matrix}\\right]$$"
      ],
      "text/plain": [
       "⎡2  0  0  0 ⎤\n",
       "⎢           ⎥\n",
       "⎢0  4  0  0 ⎥\n",
       "⎢           ⎥\n",
       "⎢0  0  9  0 ⎥\n",
       "⎢           ⎥\n",
       "⎣0  0  0  16⎦"
      ]
     },
     "execution_count": 38,
     "metadata": {},
     "output_type": "execute_result"
    }
   ],
   "source": [
    "diag(2, 4, 9, 16)"
   ]
  },
  {
   "cell_type": "markdown",
   "metadata": {},
   "source": [
    "#### Projections"
   ]
  },
  {
   "cell_type": "code",
   "execution_count": 42,
   "metadata": {},
   "outputs": [
    {
     "data": {
      "image/png": "[encoded data removed]",
      "text/latex": [
       "$$\\left[\\begin{matrix}\\frac{1}{7}\\\\\\frac{2}{7}\\\\\\frac{1}{7}\\\\\\frac{1}{7}\\end{matrix}\\right]$$"
      ],
      "text/plain": [
       "⎡1/7⎤\n",
       "⎢   ⎥\n",
       "⎢2/7⎥\n",
       "⎢   ⎥\n",
       "⎢1/7⎥\n",
       "⎢   ⎥\n",
       "⎣1/7⎦"
      ]
     },
     "execution_count": 42,
     "metadata": {},
     "output_type": "execute_result"
    }
   ],
   "source": [
    "u1 = Matrix([1, 2, 1, 1])\n",
    "u2 = Matrix([-2, 1, -1, 1])\n",
    "u3 = Matrix([1, 1, -2, -1])\n",
    "u4 = Matrix ([-1, 1, 1, -1])\n",
    "\n",
    "# Project u4 on to u1\n",
    "u4.project(u1)"
   ]
  },
  {
   "cell_type": "markdown",
   "metadata": {},
   "source": [
    "#### Check orthogonality"
   ]
  },
  {
   "cell_type": "code",
   "execution_count": 43,
   "metadata": {},
   "outputs": [
    {
     "data": {
      "image/png": "[encoded data removed]",
      "text/latex": [
       "$$0$$"
      ],
      "text/plain": [
       "0"
      ]
     },
     "metadata": {},
     "output_type": "display_data"
    },
    {
     "data": {
      "image/png": "[encoded data removed]",
      "text/latex": [
       "$$0$$"
      ],
      "text/plain": [
       "0"
      ]
     },
     "metadata": {},
     "output_type": "display_data"
    },
    {
     "data": {
      "image/png": "[encoded data removed]",
      "text/latex": [
       "$$1$$"
      ],
      "text/plain": [
       "1"
      ]
     },
     "metadata": {},
     "output_type": "display_data"
    }
   ],
   "source": [
    "# You can check using the dot product\n",
    "display(u1.dot(u2))\n",
    "display(u1.dot(u3))\n",
    "display(u1.dot(u4))"
   ]
  },
  {
   "cell_type": "code",
   "execution_count": 44,
   "metadata": {},
   "outputs": [
    {
     "data": {
      "image/png": "[encoded data removed]",
      "text/latex": [
       "$$\\left[\\begin{matrix}7 & 0 & 0 & 1\\\\0 & 7 & 0 & 1\\\\0 & 0 & 7 & -1\\\\1 & 1 & -1 & 4\\end{matrix}\\right]$$"
      ],
      "text/plain": [
       "⎡7  0  0   1 ⎤\n",
       "⎢            ⎥\n",
       "⎢0  7  0   1 ⎥\n",
       "⎢            ⎥\n",
       "⎢0  0  7   -1⎥\n",
       "⎢            ⎥\n",
       "⎣1  1  -1  4 ⎦"
      ]
     },
     "execution_count": 44,
     "metadata": {},
     "output_type": "execute_result"
    }
   ],
   "source": [
    "# Or you can use the fact that UtU will yield 0's on the off diagonals:\n",
    "\n",
    "U = u1.row_join(u2).row_join(u3).row_join(u4)\n",
    "U.T*U"
   ]
  },
  {
   "cell_type": "code",
   "execution_count": 46,
   "metadata": {},
   "outputs": [
    {
     "data": {
      "image/png": "[encoded data removed]",
      "text/latex": [
       "$$\\left[\\begin{matrix}7 & 0 & 0 & 0\\\\0 & 7 & 0 & 0\\\\0 & 0 & 7 & 0\\\\0 & 0 & 0 & \\frac{25}{7}\\end{matrix}\\right]$$"
      ],
      "text/plain": [
       "⎡7  0  0   0  ⎤\n",
       "⎢             ⎥\n",
       "⎢0  7  0   0  ⎥\n",
       "⎢             ⎥\n",
       "⎢0  0  7   0  ⎥\n",
       "⎢             ⎥\n",
       "⎣0  0  0  25/7⎦"
      ]
     },
     "execution_count": 46,
     "metadata": {},
     "output_type": "execute_result"
    }
   ],
   "source": [
    "# We interpret this as u1-u3 are all orthogonal to each other but u4 is not orthogonal to any. Let us create an\n",
    "# orthogonal u4 and redo it:\n",
    "u4 = u4 - u4.project(u1)-u4.project(u2)-u4.project(u3)\n",
    "U = u1.row_join(u2).row_join(u3).row_join(u4)\n",
    "U.T*U"
   ]
  },
  {
   "cell_type": "markdown",
   "metadata": {},
   "source": [
    "#### Normalizing vectors"
   ]
  },
  {
   "cell_type": "code",
   "execution_count": 47,
   "metadata": {},
   "outputs": [
    {
     "data": {
      "image/png": "[encoded data removed]",
      "text/latex": [
       "$$\\left[\\begin{matrix}1 & 0 & 0 & 0\\\\0 & 1 & 0 & 0\\\\0 & 0 & 1 & 0\\\\0 & 0 & 0 & 1\\end{matrix}\\right]$$"
      ],
      "text/plain": [
       "⎡1  0  0  0⎤\n",
       "⎢          ⎥\n",
       "⎢0  1  0  0⎥\n",
       "⎢          ⎥\n",
       "⎢0  0  1  0⎥\n",
       "⎢          ⎥\n",
       "⎣0  0  0  1⎦"
      ]
     },
     "execution_count": 47,
     "metadata": {},
     "output_type": "execute_result"
    }
   ],
   "source": [
    "u1 = u1.normalized()\n",
    "u2 = u2.normalized()\n",
    "u3 = u3.normalized()\n",
    "u4 = u4.normalized()\n",
    "U = u1.row_join(u2).row_join(u3).row_join(u4)\n",
    "U.T*U"
   ]
  },
  {
   "cell_type": "code",
   "execution_count": null,
   "metadata": {},
   "outputs": [],
   "source": [
    "# Notice that the orthogonality test from previously now yields the identity matrix."
   ]
  },
  {
   "cell_type": "markdown",
   "metadata": {},
   "source": [
    "#### Length of a vector"
   ]
  },
  {
   "cell_type": "code",
   "execution_count": 48,
   "metadata": {},
   "outputs": [
    {
     "data": {
      "image/png": "[encoded data removed]",
      "text/latex": [
       "$$\\sqrt{7}$$"
      ],
      "text/plain": [
       "√7"
      ]
     },
     "execution_count": 48,
     "metadata": {},
     "output_type": "execute_result"
    }
   ],
   "source": [
    "u1 = Matrix([1, 2, 1, 1])\n",
    "u1.norm()\n"
   ]
  },
  {
   "cell_type": "markdown",
   "metadata": {},
   "source": [
    "#### Inserting column of ones"
   ]
  },
  {
   "cell_type": "code",
   "execution_count": 54,
   "metadata": {},
   "outputs": [
    {
     "data": {
      "image/png": "[encoded data removed]",
      "text/latex": [
       "$$\\left[\\begin{matrix}1 & 16483.0\\\\1 & 13142.0\\\\1 & 12015.0\\\\1 & 11986.0\\\\1 & 1119.0\\\\1 & 0.0\\\\1 & 0.0\\\\1 & 12259.0\\\\1 & 6531.0\\\\1 & 14086.0\\\\1 & 12797.0\\\\1 & 13141.0\\\\1 & 454.0\\\\1 & 1.0\\\\1 & 5971.0\\\\1 & 10901.0\\\\1 & 14271.0\\\\1 & 13728.0\\\\1 & 12938.0\\\\1 & 1158.0\\\\1 & 0.0\\\\1 & 11450.0\\\\1 & 5311.0\\\\1 & 17073.0\\\\1 & 11336.0\\\\1 & 7340.0\\\\1 & 11330.0\\\\1 & 0.0\\\\1 & 10679.0\\\\1 & 12803.0\\\\1 & 12827.0\\end{matrix}\\right]$$"
      ],
      "text/plain": [
       "⎡1  16483.0⎤\n",
       "⎢          ⎥\n",
       "⎢1  13142.0⎥\n",
       "⎢          ⎥\n",
       "⎢1  12015.0⎥\n",
       "⎢          ⎥\n",
       "⎢1  11986.0⎥\n",
       "⎢          ⎥\n",
       "⎢1  1119.0 ⎥\n",
       "⎢          ⎥\n",
       "⎢1    0.0  ⎥\n",
       "⎢          ⎥\n",
       "⎢1    0.0  ⎥\n",
       "⎢          ⎥\n",
       "⎢1  12259.0⎥\n",
       "⎢          ⎥\n",
       "⎢1  6531.0 ⎥\n",
       "⎢          ⎥\n",
       "⎢1  14086.0⎥\n",
       "⎢          ⎥\n",
       "⎢1  12797.0⎥\n",
       "⎢          ⎥\n",
       "⎢1  13141.0⎥\n",
       "⎢          ⎥\n",
       "⎢1   454.0 ⎥\n",
       "⎢          ⎥\n",
       "⎢1    1.0  ⎥\n",
       "⎢          ⎥\n",
       "⎢1  5971.0 ⎥\n",
       "⎢          ⎥\n",
       "⎢1  10901.0⎥\n",
       "⎢          ⎥\n",
       "⎢1  14271.0⎥\n",
       "⎢          ⎥\n",
       "⎢1  13728.0⎥\n",
       "⎢          ⎥\n",
       "⎢1  12938.0⎥\n",
       "⎢          ⎥\n",
       "⎢1  1158.0 ⎥\n",
       "⎢          ⎥\n",
       "⎢1    0.0  ⎥\n",
       "⎢          ⎥\n",
       "⎢1  11450.0⎥\n",
       "⎢          ⎥\n",
       "⎢1  5311.0 ⎥\n",
       "⎢          ⎥\n",
       "⎢1  17073.0⎥\n",
       "⎢          ⎥\n",
       "⎢1  11336.0⎥\n",
       "⎢          ⎥\n",
       "⎢1  7340.0 ⎥\n",
       "⎢          ⎥\n",
       "⎢1  11330.0⎥\n",
       "⎢          ⎥\n",
       "⎢1    0.0  ⎥\n",
       "⎢          ⎥\n",
       "⎢1  10679.0⎥\n",
       "⎢          ⎥\n",
       "⎢1  12803.0⎥\n",
       "⎢          ⎥\n",
       "⎣1  12827.0⎦"
      ]
     },
     "execution_count": 54,
     "metadata": {},
     "output_type": "execute_result"
    }
   ],
   "source": [
    "# Assume you need to insert a column of ones, e.g. to create a design matrix. You will need the length, i.e.\n",
    "# the row length of the array. The second argument in the ones function states how many columns you want:\n",
    "X = Matrix([ones(len(x), 1)]).row_join(Matrix(x))\n",
    "X"
   ]
  },
  {
   "cell_type": "markdown",
   "metadata": {},
   "source": [
    "#### Using Latex"
   ]
  },
  {
   "cell_type": "code",
   "execution_count": 57,
   "metadata": {},
   "outputs": [
    {
     "data": {
      "text/latex": [
       "$$y_1(x) = 4.63+0.0019x$$"
      ],
      "text/plain": [
       "<IPython.core.display.Latex object>"
      ]
     },
     "metadata": {},
     "output_type": "display_data"
    }
   ],
   "source": [
    "# Assume you want to display an equation or some text using Latex and you also want to use values that were\n",
    "# calculated using code. Instead of re-typing the values, you can do the following - the example is a regression\n",
    "# problem where a prediction model is found. Use display to print Latex:\n",
    "\n",
    "X = Matrix([ones(len(x), 1)]).row_join(Matrix(x))\n",
    "\n",
    "XtX = X.T*X\n",
    "Xty = X.T*Matrix(y)\n",
    "Mat, _ = XtX.row_join(Xty).rref()\n",
    "B = Mat[:,-1]\n",
    "display(Latex(\"$$y_1(x) = {}+{}x$$\".format(round(B[0], 2), round(B[1], 4))))"
   ]
  },
  {
   "cell_type": "markdown",
   "metadata": {},
   "source": [
    "#### Indexing on output of a Python function"
   ]
  },
  {
   "cell_type": "code",
   "execution_count": 58,
   "metadata": {},
   "outputs": [
    {
     "data": {
      "image/png": "[encoded data removed]",
      "text/latex": [
       "$$\\left [ \\left ( -1, \\quad 2, \\quad \\left [ \\left[\\begin{matrix}-1\\\\1\\\\0\\end{matrix}\\right], \\quad \\left[\\begin{matrix}-1\\\\0\\\\1\\end{matrix}\\right]\\right ]\\right ), \\quad \\left ( 2, \\quad 1, \\quad \\left [ \\left[\\begin{matrix}1\\\\1\\\\1\\end{matrix}\\right]\\right ]\\right )\\right ]$$"
      ],
      "text/plain": [
       "⎡⎛       ⎡⎡-1⎤  ⎡-1⎤⎤⎞  ⎛      ⎡⎡1⎤⎤⎞⎤\n",
       "⎢⎜       ⎢⎢  ⎥  ⎢  ⎥⎥⎟  ⎜      ⎢⎢ ⎥⎥⎟⎥\n",
       "⎢⎜-1, 2, ⎢⎢1 ⎥, ⎢0 ⎥⎥⎟, ⎜2, 1, ⎢⎢1⎥⎥⎟⎥\n",
       "⎢⎜       ⎢⎢  ⎥  ⎢  ⎥⎥⎟  ⎜      ⎢⎢ ⎥⎥⎟⎥\n",
       "⎣⎝       ⎣⎣0 ⎦  ⎣1 ⎦⎦⎠  ⎝      ⎣⎣1⎦⎦⎠⎦"
      ]
     },
     "execution_count": 58,
     "metadata": {},
     "output_type": "execute_result"
    }
   ],
   "source": [
    "# Python often returns tuples. Consider the following output\n",
    "A = Matrix([[0, 1, 1], [1, 0, 1], [1, 1, 0]])\n",
    "vecs = A.eigenvects()\n",
    "vecs"
   ]
  },
  {
   "cell_type": "code",
   "execution_count": 107,
   "metadata": {},
   "outputs": [
    {
     "data": {
      "text/latex": [
       "$\\lambda_1 = -1$ and has multiplicity 2"
      ],
      "text/plain": [
       "<IPython.core.display.Latex object>"
      ]
     },
     "metadata": {},
     "output_type": "display_data"
    },
    {
     "data": {
      "text/latex": [
       "$\\lambda_2 = 2$ and has multiplicity 1"
      ],
      "text/plain": [
       "<IPython.core.display.Latex object>"
      ]
     },
     "metadata": {},
     "output_type": "display_data"
    },
    {
     "data": {
      "text/latex": [
       "The eigenvectors for $\\lambda_1$ are $\\left[\\begin{matrix}-1\\\\1\\\\0\\end{matrix}\\right]$ and $\\left[\\begin{matrix}-1\\\\0\\\\1\\end{matrix}\\right]$ and the eigenvector for $\\lambda_2$ is $\\left[\\begin{matrix}1\\\\1\\\\1\\end{matrix}\\right]$"
      ],
      "text/plain": [
       "<IPython.core.display.Latex object>"
      ]
     },
     "metadata": {},
     "output_type": "display_data"
    }
   ],
   "source": [
    "# The output contains a tuple with two tuples. Each of these tuples contains three more tuples, and the last of\n",
    "# these contain additional tuples. Each of the two \"outer\" tuples represent an eigenvalue. The first entry\n",
    "# is the eigenvalue, the second entry is the multiplicity, and the final entry contains the corresponding eigen-\n",
    "# vectors. So let is index to obtain all the different entries:\n",
    "\n",
    "# Retrieve the eigenvalues and their multiplicity\n",
    "display(Latex(\n",
    "\"$\\lambda_1 = {}$ and has multiplicity {}\".format(vecs[0][0], vecs[0][1])))\n",
    "display(Latex(\n",
    "\"$\\lambda_2 = {}$ and has multiplicity {}\".format(vecs[1][0], vecs[1][1])))\n",
    "# Also retrieve the eigenvectors\n",
    "display(Latex(\n",
    "\"The eigenvectors for $\\lambda_1$ are ${}$ and ${}$ and the\"\n",
    "    \" eigenvector for $\\lambda_2$ is ${}$\".format(latex(vecs[0][2][0]), latex(vecs[0][2][1]),\n",
    "                                                latex(vecs[1][2][0]))))\n"
   ]
  }
 ],
 "metadata": {
  "kernelspec": {
   "display_name": "Python 3",
   "language": "python",
   "name": "python3"
  },
  "language_info": {
   "codemirror_mode": {
    "name": "ipython",
    "version": 3
   },
   "file_extension": ".py",
   "mimetype": "text/x-python",
   "name": "python",
   "nbconvert_exporter": "python",
   "pygments_lexer": "ipython3",
   "version": "3.7.6"
  }
 },
 "nbformat": 4,
 "nbformat_minor": 2
}
