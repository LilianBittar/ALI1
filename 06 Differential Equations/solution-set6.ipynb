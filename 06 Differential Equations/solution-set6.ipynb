{
 "cells": [
  {
   "cell_type": "code",
   "execution_count": 1,
   "metadata": {},
   "outputs": [],
   "source": [
    "from sympy import *\n",
    "from fractions import Fraction\n",
    "from scipy.stats import binom\n",
    "from scipy.stats import poisson\n",
    "from scipy.stats import hypergeom\n",
    "from scipy.stats import nbinom\n",
    "from scipy.stats import expon\n",
    "from scipy.stats import norm\n",
    "from IPython.display import display, Latex, HTML, Math\n",
    "from scipy import stats\n",
    "import numpy as np\n",
    "import sympy as sp\n",
    "import pandas as pd\n",
    "import math as math\n",
    "from matplotlib import pyplot as plt\n",
    "%matplotlib inline\n",
    "x, y, z, u, c = symbols('x y z u c')\n",
    "init_printing()"
   ]
  },
  {
   "cell_type": "code",
   "execution_count": 5,
   "metadata": {},
   "outputs": [
    {
     "name": "stdout",
     "output_type": "stream",
     "text": [
      "(Matrix([\n",
      "[1, 0,  5/2],\n",
      "[0, 1, -3/2]]), (0, 1))\n"
     ]
    }
   ],
   "source": [
    "##5.7.1\n",
    "matrix = Matrix(([-3,-1,-6],\n",
    "          [1,1,1]))\n",
    "\n",
    "print(matrix.rref())"
   ]
  },
  {
   "cell_type": "code",
   "execution_count": 8,
   "metadata": {},
   "outputs": [
    {
     "name": "stdout",
     "output_type": "stream",
     "text": [
      "{-1: 1, 1: 1}\n",
      "[(-1, 1, [Matrix([\n",
      "[-1],\n",
      "[ 1]])]), (1, 1, [Matrix([\n",
      "[-3],\n",
      "[ 1]])])]\n"
     ]
    }
   ],
   "source": [
    "##5.7.3\n",
    "matrix = Matrix(([2,3],\n",
    "          [-1,-2]))\n",
    "\n",
    "matrix.eigenvals()\n",
    "print(matrix.eigenvals())\n",
    "matrix.eigenvects()\n",
    "print(matrix.eigenvects())\n"
   ]
  },
  {
   "cell_type": "code",
   "execution_count": 11,
   "metadata": {},
   "outputs": [
    {
     "name": "stdout",
     "output_type": "stream",
     "text": [
      "{3: 1, -1: 1}\n",
      "(Matrix([\n",
      "[1, 1],\n",
      "[0, 0]]), (0,))\n",
      "(Matrix([\n",
      "[1, 0, -5/4],\n",
      "[0, 1, 13/4]]), (0, 1))\n"
     ]
    }
   ],
   "source": [
    "##5.7.4\n",
    "A = Matrix(([-2,-5],\n",
    "          [1,4]))\n",
    "print(A.eigenvals())\n",
    "\n",
    "B = Matrix(([-5,-5],[1,1]))\n",
    "print(B.rref())\n",
    "\n",
    "C = Matrix(([-5,-1,3],[1,1,2]))\n",
    "print(C.rref())"
   ]
  },
  {
   "cell_type": "code",
   "execution_count": 14,
   "metadata": {},
   "outputs": [
    {
     "name": "stdout",
     "output_type": "stream",
     "text": [
      "{6: 1, 4: 1}\n",
      "[(4, 1, [Matrix([\n",
      "[1/3],\n",
      "[  1]])]), (6, 1, [Matrix([\n",
      "[1],\n",
      "[1]])])]\n"
     ]
    }
   ],
   "source": [
    "##5.7.5\n",
    "A = Matrix(([7,-1],\n",
    "          [3,3]))\n",
    "print(A.eigenvals())\n",
    "## find the eigenvectors\n",
    "print(A.eigenvects())"
   ]
  },
  {
   "cell_type": "code",
   "execution_count": 25,
   "metadata": {},
   "outputs": [
    {
     "name": "stdout",
     "output_type": "stream",
     "text": [
      "{-1: 1, -2: 1}\n",
      "[(-2, 1, [Matrix([\n",
      "[2/3],\n",
      "[  1]])]), (-1, 1, [Matrix([\n",
      "[1],\n",
      "[1]])])]\n",
      "(Matrix([\n",
      "[1, 0, -1],\n",
      "[0, 1,  5]]), (0, 1))\n"
     ]
    }
   ],
   "source": [
    "##5.7.6\n",
    "A = Matrix(([1,-2],\n",
    "          [3,-4]))\n",
    "print(A.eigenvals())\n",
    "print(A.eigenvects())\n",
    "print(Matrix(([2,1,3],[3,1,2])).rref())"
   ]
  },
  {
   "cell_type": "code",
   "execution_count": 27,
   "metadata": {},
   "outputs": [
    {
     "name": "stdout",
     "output_type": "stream",
     "text": [
      "{1: 1, -1: 1, -2: 1}\n",
      "[(-2, 1, [Matrix([\n",
      "[-1],\n",
      "[ 0],\n",
      "[ 1]])]), (-1, 1, [Matrix([\n",
      "[-6/5],\n",
      "[ 1/5],\n",
      "[   1]])]), (1, 1, [Matrix([\n",
      "[ -1],\n",
      "[1/4],\n",
      "[  1]])])]\n",
      "Eigenvalues:\n",
      "1: multiplicity 1\n",
      "-1: multiplicity 1\n",
      "-2: multiplicity 1\n",
      "\n",
      "Eigenvectors:\n",
      "Eigenvalue: -2 (multiplicity: 1)\n",
      "Eigenvector: Matrix([[-1], [0], [1]])\n",
      "Eigenvalue: -1 (multiplicity: 1)\n",
      "Eigenvector: Matrix([[-6/5], [1/5], [1]])\n",
      "Eigenvalue: 1 (multiplicity: 1)\n",
      "Eigenvector: Matrix([[-1], [1/4], [1]])\n"
     ]
    }
   ],
   "source": [
    "##5.7.15\n",
    "A = Matrix(([-8,-12,-6],[2,1,2],[7,12,5]))\n",
    "print(A.eigenvals())\n",
    "print(A.eigenvects())\n",
    "\n",
    "\n",
    "# Define the matrix\n",
    "A = sp.Matrix([[-8, -12, -6], [2, 1, 2], [7, 12, 5]])\n",
    "\n",
    "# Calculate the eigenvalues and eigenvectors\n",
    "eigenvals = A.eigenvals()\n",
    "eigenvects = A.eigenvects()\n",
    "\n",
    "# Print the eigenvalues\n",
    "print(\"Eigenvalues:\")\n",
    "for eigenval, multiplicity in eigenvals.items():\n",
    "    print(f\"{eigenval}: multiplicity {multiplicity}\")\n",
    "\n",
    "# Print the eigenvectors\n",
    "print(\"\\nEigenvectors:\")\n",
    "for eigenval, multiplicity, vects in eigenvects:\n",
    "    print(f\"Eigenvalue: {eigenval} (multiplicity: {multiplicity})\")\n",
    "    for vect in vects:\n",
    "        print(f\"Eigenvector: {vect}\")"
   ]
  },
  {
   "cell_type": "code",
   "execution_count": 28,
   "metadata": {},
   "outputs": [
    {
     "name": "stdout",
     "output_type": "stream",
     "text": [
      "Eigenvalues:\n",
      "4: multiplicity 1\n",
      "3: multiplicity 1\n",
      "2: multiplicity 1\n",
      "\n",
      "Eigenvectors:\n",
      "Eigenvalue: 2 (multiplicity: 1)\n",
      "Eigenvector: Matrix([[2], [0], [1]])\n",
      "Eigenvalue: 3 (multiplicity: 1)\n",
      "Eigenvector: Matrix([[3], [-1], [1]])\n",
      "Eigenvalue: 4 (multiplicity: 1)\n",
      "Eigenvector: Matrix([[7/3], [-2/3], [1]])\n"
     ]
    }
   ],
   "source": [
    "##5.7.16\n",
    "A = sp.Matrix(([-6,-11,16],[2,5,-4],[-4,-5,10]))\n",
    "# Calculate the eigenvalues and eigenvectors\n",
    "eigenvals = A.eigenvals()\n",
    "eigenvects = A.eigenvects()\n",
    "\n",
    "# Print the eigenvalues\n",
    "print(\"Eigenvalues:\")\n",
    "for eigenval, multiplicity in eigenvals.items():\n",
    "    print(f\"{eigenval}: multiplicity {multiplicity}\")\n",
    "\n",
    "# Print the eigenvectors\n",
    "print(\"\\nEigenvectors:\")\n",
    "for eigenval, multiplicity, vects in eigenvects:\n",
    "    print(f\"Eigenvalue: {eigenval} (multiplicity: {multiplicity})\")\n",
    "    for vect in vects:\n",
    "        print(f\"Eigenvector: {vect}\")\n",
    "\n"
   ]
  },
  {
   "cell_type": "code",
   "execution_count": 30,
   "metadata": {},
   "outputs": [
    {
     "name": "stdout",
     "output_type": "stream",
     "text": [
      "Eigenvalues:\n",
      "-1/2: multiplicity 1\n",
      "-5/2: multiplicity 1\n",
      "\n",
      "Eigenvectors:\n",
      "Eigenvalue: -5/2 (multiplicity: 1)\n",
      "Eigenvector: Matrix([[-3/2], [1]])\n",
      "Eigenvalue: -1/2 (multiplicity: 1)\n",
      "Eigenvector: Matrix([[1/2], [1]])\n"
     ]
    }
   ],
   "source": [
    "##5.7.19\n",
    "A = sp.Matrix(([-2, Rational(3,4)],[1,-1]))\n",
    "# Calculate the eigenvalues and eigenvectors\n",
    "eigenvals = A.eigenvals()\n",
    "eigenvects = A.eigenvects()\n",
    "\n",
    "# Print the eigenvalues\n",
    "print(\"Eigenvalues:\")\n",
    "for eigenval, multiplicity in eigenvals.items():\n",
    "    print(f\"{eigenval}: multiplicity {multiplicity}\")\n",
    "\n",
    "# Print the eigenvectors\n",
    "print(\"\\nEigenvectors:\")\n",
    "for eigenval, multiplicity, vects in eigenvects:\n",
    "    print(f\"Eigenvalue: {eigenval} (multiplicity: {multiplicity})\")\n",
    "    for vect in vects:\n",
    "        print(f\"Eigenvector: {vect}\")\n",
    "\n",
    "\n"
   ]
  }
 ],
 "metadata": {
  "kernelspec": {
   "display_name": "Python 3",
   "language": "python",
   "name": "python3"
  },
  "language_info": {
   "codemirror_mode": {
    "name": "ipython",
    "version": 3
   },
   "file_extension": ".py",
   "mimetype": "text/x-python",
   "name": "python",
   "nbconvert_exporter": "python",
   "pygments_lexer": "ipython3",
   "version": "3.11.2"
  }
 },
 "nbformat": 4,
 "nbformat_minor": 2
}
